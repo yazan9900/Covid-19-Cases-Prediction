{
 "cells": [
  {
   "cell_type": "markdown",
   "metadata": {},
   "source": [
    "# Covid-19 Cases Prediction for December 2020\n",
    "#### Done by : Yazan Alhroob"
   ]
  },
  {
   "attachments": {},
   "cell_type": "markdown",
   "metadata": {},
   "source": [
    "### The Data used for this analysis is John Hopkin's University CSSE Time Series Covid-19 daily updated dataset\n",
    "### Link to the data ([here](https://github.com/CSSEGISandData/COVID-19/tree/master/csse_covid_19_data))"
   ]
  },
  {
   "cell_type": "markdown",
   "metadata": {},
   "source": [
    "## Links to subjects in this notebook\n",
    "### A. World cases analysis and predection\n",
    "[Libraries importing and data raeding](#1.-Libraries-importing-and-data-raeding)\n",
    "\n",
    "[Data Manipulation](#2.-Data-Manipulation)\n",
    "\n",
    "[Plotting](#3.-Plotting)\n",
    "\n",
    "[Data Preprocessing](#4.-Data-Preprocessing)\n",
    "\n",
    "[Linear Regression](#5.-Linear-Regression)\n",
    "\n",
    "[Support Vector Regressor using \"RBF\" kernel](#6.-Support-Vector-Regressor-using-RBF-kernel)\n",
    "\n",
    "[Support Vector Regressor with \"poly\" kernel](#7.-Support-Vector-Regressor-using-poly-kernel)\n",
    "\n",
    "[Showing predictions for December](#8.-Showing-predictions-for-December)\n",
    "\n",
    "### B. Jordan cases analysis and predection\n",
    "\n",
    "[Data Manipulation](#1.-Data-Manipulation)\n",
    "\n",
    "[Plotting](#2.-Plotting)\n",
    "\n",
    "[Data Preprocessing](#3.-Data-Preprocessing)\n",
    "\n",
    "[Linear Regression](#4.-Linear-Regression)\n",
    "\n",
    "[Support Vector Regressor using \"RBF\" kernel](#5.-Support-Vector-Regressor-using-RBF-kernel)\n",
    "\n",
    "\n",
    "[Showing predictions for December](#6.-Showing-predictions-for-December)\n",
    "\n",
    "\n",
    "\n",
    "### Conclusion: \n",
    "[Conclusion](#Conclusion)"
   ]
  },
  {
   "cell_type": "markdown",
   "metadata": {},
   "source": [
    "## A. World cases analysis and predection"
   ]
  },
  {
   "cell_type": "markdown",
   "metadata": {},
   "source": [
    "### 1. Libraries importing and data raeding"
   ]
  },
  {
   "cell_type": "code",
   "execution_count": 1,
   "metadata": {},
   "outputs": [],
   "source": [
    "import pandas as pd\n",
    "import datetime\n",
    "import matplotlib.pyplot as plt\n",
    "import numpy as np\n",
    "import seaborn as sns\n",
    "from sklearn.linear_model import LinearRegression\n",
    "from sklearn.svm import SVR\n",
    "from sklearn.preprocessing import StandardScaler\n",
    "from sklearn.metrics import mean_absolute_error\n",
    "from sklearn.metrics import mean_squared_error"
   ]
  },
  {
   "cell_type": "code",
   "execution_count": 2,
   "metadata": {},
   "outputs": [
    {
     "data": {
      "text/html": [
       "<div>\n",
       "<style scoped>\n",
       "    .dataframe tbody tr th:only-of-type {\n",
       "        vertical-align: middle;\n",
       "    }\n",
       "\n",
       "    .dataframe tbody tr th {\n",
       "        vertical-align: top;\n",
       "    }\n",
       "\n",
       "    .dataframe thead th {\n",
       "        text-align: right;\n",
       "    }\n",
       "</style>\n",
       "<table border=\"1\" class=\"dataframe\">\n",
       "  <thead>\n",
       "    <tr style=\"text-align: right;\">\n",
       "      <th></th>\n",
       "      <th>Province/State</th>\n",
       "      <th>Country/Region</th>\n",
       "      <th>Lat</th>\n",
       "      <th>Long</th>\n",
       "      <th>1/22/20</th>\n",
       "      <th>1/23/20</th>\n",
       "      <th>1/24/20</th>\n",
       "      <th>1/25/20</th>\n",
       "      <th>1/26/20</th>\n",
       "      <th>1/27/20</th>\n",
       "      <th>...</th>\n",
       "      <th>10/25/20</th>\n",
       "      <th>10/26/20</th>\n",
       "      <th>10/27/20</th>\n",
       "      <th>10/28/20</th>\n",
       "      <th>10/29/20</th>\n",
       "      <th>10/30/20</th>\n",
       "      <th>10/31/20</th>\n",
       "      <th>11/1/20</th>\n",
       "      <th>11/2/20</th>\n",
       "      <th>11/3/20</th>\n",
       "    </tr>\n",
       "  </thead>\n",
       "  <tbody>\n",
       "    <tr>\n",
       "      <th>0</th>\n",
       "      <td>NaN</td>\n",
       "      <td>Afghanistan</td>\n",
       "      <td>33.939110</td>\n",
       "      <td>67.709953</td>\n",
       "      <td>0</td>\n",
       "      <td>0</td>\n",
       "      <td>0</td>\n",
       "      <td>0</td>\n",
       "      <td>0</td>\n",
       "      <td>0</td>\n",
       "      <td>...</td>\n",
       "      <td>40833</td>\n",
       "      <td>40937</td>\n",
       "      <td>41032</td>\n",
       "      <td>41145</td>\n",
       "      <td>41268</td>\n",
       "      <td>41334</td>\n",
       "      <td>41425</td>\n",
       "      <td>41501</td>\n",
       "      <td>41633</td>\n",
       "      <td>41728</td>\n",
       "    </tr>\n",
       "    <tr>\n",
       "      <th>1</th>\n",
       "      <td>NaN</td>\n",
       "      <td>Albania</td>\n",
       "      <td>41.153300</td>\n",
       "      <td>20.168300</td>\n",
       "      <td>0</td>\n",
       "      <td>0</td>\n",
       "      <td>0</td>\n",
       "      <td>0</td>\n",
       "      <td>0</td>\n",
       "      <td>0</td>\n",
       "      <td>...</td>\n",
       "      <td>19157</td>\n",
       "      <td>19445</td>\n",
       "      <td>19729</td>\n",
       "      <td>20040</td>\n",
       "      <td>20315</td>\n",
       "      <td>20634</td>\n",
       "      <td>20875</td>\n",
       "      <td>21202</td>\n",
       "      <td>21523</td>\n",
       "      <td>21904</td>\n",
       "    </tr>\n",
       "    <tr>\n",
       "      <th>2</th>\n",
       "      <td>NaN</td>\n",
       "      <td>Algeria</td>\n",
       "      <td>28.033900</td>\n",
       "      <td>1.659600</td>\n",
       "      <td>0</td>\n",
       "      <td>0</td>\n",
       "      <td>0</td>\n",
       "      <td>0</td>\n",
       "      <td>0</td>\n",
       "      <td>0</td>\n",
       "      <td>...</td>\n",
       "      <td>56143</td>\n",
       "      <td>56419</td>\n",
       "      <td>56706</td>\n",
       "      <td>57026</td>\n",
       "      <td>57332</td>\n",
       "      <td>57651</td>\n",
       "      <td>57942</td>\n",
       "      <td>58272</td>\n",
       "      <td>58574</td>\n",
       "      <td>58979</td>\n",
       "    </tr>\n",
       "    <tr>\n",
       "      <th>3</th>\n",
       "      <td>NaN</td>\n",
       "      <td>Andorra</td>\n",
       "      <td>42.506300</td>\n",
       "      <td>1.521800</td>\n",
       "      <td>0</td>\n",
       "      <td>0</td>\n",
       "      <td>0</td>\n",
       "      <td>0</td>\n",
       "      <td>0</td>\n",
       "      <td>0</td>\n",
       "      <td>...</td>\n",
       "      <td>4038</td>\n",
       "      <td>4325</td>\n",
       "      <td>4410</td>\n",
       "      <td>4517</td>\n",
       "      <td>4567</td>\n",
       "      <td>4665</td>\n",
       "      <td>4756</td>\n",
       "      <td>4825</td>\n",
       "      <td>4888</td>\n",
       "      <td>4910</td>\n",
       "    </tr>\n",
       "    <tr>\n",
       "      <th>4</th>\n",
       "      <td>NaN</td>\n",
       "      <td>Angola</td>\n",
       "      <td>-11.202700</td>\n",
       "      <td>17.873900</td>\n",
       "      <td>0</td>\n",
       "      <td>0</td>\n",
       "      <td>0</td>\n",
       "      <td>0</td>\n",
       "      <td>0</td>\n",
       "      <td>0</td>\n",
       "      <td>...</td>\n",
       "      <td>9381</td>\n",
       "      <td>9644</td>\n",
       "      <td>9871</td>\n",
       "      <td>10074</td>\n",
       "      <td>10269</td>\n",
       "      <td>10558</td>\n",
       "      <td>10805</td>\n",
       "      <td>11035</td>\n",
       "      <td>11228</td>\n",
       "      <td>11577</td>\n",
       "    </tr>\n",
       "    <tr>\n",
       "      <th>...</th>\n",
       "      <td>...</td>\n",
       "      <td>...</td>\n",
       "      <td>...</td>\n",
       "      <td>...</td>\n",
       "      <td>...</td>\n",
       "      <td>...</td>\n",
       "      <td>...</td>\n",
       "      <td>...</td>\n",
       "      <td>...</td>\n",
       "      <td>...</td>\n",
       "      <td>...</td>\n",
       "      <td>...</td>\n",
       "      <td>...</td>\n",
       "      <td>...</td>\n",
       "      <td>...</td>\n",
       "      <td>...</td>\n",
       "      <td>...</td>\n",
       "      <td>...</td>\n",
       "      <td>...</td>\n",
       "      <td>...</td>\n",
       "      <td>...</td>\n",
       "    </tr>\n",
       "    <tr>\n",
       "      <th>263</th>\n",
       "      <td>NaN</td>\n",
       "      <td>West Bank and Gaza</td>\n",
       "      <td>31.952200</td>\n",
       "      <td>35.233200</td>\n",
       "      <td>0</td>\n",
       "      <td>0</td>\n",
       "      <td>0</td>\n",
       "      <td>0</td>\n",
       "      <td>0</td>\n",
       "      <td>0</td>\n",
       "      <td>...</td>\n",
       "      <td>50442</td>\n",
       "      <td>50952</td>\n",
       "      <td>51528</td>\n",
       "      <td>51948</td>\n",
       "      <td>52571</td>\n",
       "      <td>53075</td>\n",
       "      <td>53520</td>\n",
       "      <td>54060</td>\n",
       "      <td>54775</td>\n",
       "      <td>55408</td>\n",
       "    </tr>\n",
       "    <tr>\n",
       "      <th>264</th>\n",
       "      <td>NaN</td>\n",
       "      <td>Western Sahara</td>\n",
       "      <td>24.215500</td>\n",
       "      <td>-12.885800</td>\n",
       "      <td>0</td>\n",
       "      <td>0</td>\n",
       "      <td>0</td>\n",
       "      <td>0</td>\n",
       "      <td>0</td>\n",
       "      <td>0</td>\n",
       "      <td>...</td>\n",
       "      <td>10</td>\n",
       "      <td>10</td>\n",
       "      <td>10</td>\n",
       "      <td>10</td>\n",
       "      <td>10</td>\n",
       "      <td>10</td>\n",
       "      <td>10</td>\n",
       "      <td>10</td>\n",
       "      <td>10</td>\n",
       "      <td>10</td>\n",
       "    </tr>\n",
       "    <tr>\n",
       "      <th>265</th>\n",
       "      <td>NaN</td>\n",
       "      <td>Yemen</td>\n",
       "      <td>15.552727</td>\n",
       "      <td>48.516388</td>\n",
       "      <td>0</td>\n",
       "      <td>0</td>\n",
       "      <td>0</td>\n",
       "      <td>0</td>\n",
       "      <td>0</td>\n",
       "      <td>0</td>\n",
       "      <td>...</td>\n",
       "      <td>2060</td>\n",
       "      <td>2060</td>\n",
       "      <td>2060</td>\n",
       "      <td>2061</td>\n",
       "      <td>2062</td>\n",
       "      <td>2062</td>\n",
       "      <td>2063</td>\n",
       "      <td>2063</td>\n",
       "      <td>2063</td>\n",
       "      <td>2063</td>\n",
       "    </tr>\n",
       "    <tr>\n",
       "      <th>266</th>\n",
       "      <td>NaN</td>\n",
       "      <td>Zambia</td>\n",
       "      <td>-13.133897</td>\n",
       "      <td>27.849332</td>\n",
       "      <td>0</td>\n",
       "      <td>0</td>\n",
       "      <td>0</td>\n",
       "      <td>0</td>\n",
       "      <td>0</td>\n",
       "      <td>0</td>\n",
       "      <td>...</td>\n",
       "      <td>16117</td>\n",
       "      <td>16200</td>\n",
       "      <td>16243</td>\n",
       "      <td>16285</td>\n",
       "      <td>16325</td>\n",
       "      <td>16415</td>\n",
       "      <td>16432</td>\n",
       "      <td>16480</td>\n",
       "      <td>16543</td>\n",
       "      <td>16661</td>\n",
       "    </tr>\n",
       "    <tr>\n",
       "      <th>267</th>\n",
       "      <td>NaN</td>\n",
       "      <td>Zimbabwe</td>\n",
       "      <td>-19.015438</td>\n",
       "      <td>29.154857</td>\n",
       "      <td>0</td>\n",
       "      <td>0</td>\n",
       "      <td>0</td>\n",
       "      <td>0</td>\n",
       "      <td>0</td>\n",
       "      <td>0</td>\n",
       "      <td>...</td>\n",
       "      <td>8276</td>\n",
       "      <td>8303</td>\n",
       "      <td>8315</td>\n",
       "      <td>8320</td>\n",
       "      <td>8349</td>\n",
       "      <td>8362</td>\n",
       "      <td>8367</td>\n",
       "      <td>8374</td>\n",
       "      <td>8389</td>\n",
       "      <td>8410</td>\n",
       "    </tr>\n",
       "  </tbody>\n",
       "</table>\n",
       "<p>268 rows × 291 columns</p>\n",
       "</div>"
      ],
      "text/plain": [
       "    Province/State      Country/Region        Lat       Long  1/22/20  \\\n",
       "0              NaN         Afghanistan  33.939110  67.709953        0   \n",
       "1              NaN             Albania  41.153300  20.168300        0   \n",
       "2              NaN             Algeria  28.033900   1.659600        0   \n",
       "3              NaN             Andorra  42.506300   1.521800        0   \n",
       "4              NaN              Angola -11.202700  17.873900        0   \n",
       "..             ...                 ...        ...        ...      ...   \n",
       "263            NaN  West Bank and Gaza  31.952200  35.233200        0   \n",
       "264            NaN      Western Sahara  24.215500 -12.885800        0   \n",
       "265            NaN               Yemen  15.552727  48.516388        0   \n",
       "266            NaN              Zambia -13.133897  27.849332        0   \n",
       "267            NaN            Zimbabwe -19.015438  29.154857        0   \n",
       "\n",
       "     1/23/20  1/24/20  1/25/20  1/26/20  1/27/20  ...  10/25/20  10/26/20  \\\n",
       "0          0        0        0        0        0  ...     40833     40937   \n",
       "1          0        0        0        0        0  ...     19157     19445   \n",
       "2          0        0        0        0        0  ...     56143     56419   \n",
       "3          0        0        0        0        0  ...      4038      4325   \n",
       "4          0        0        0        0        0  ...      9381      9644   \n",
       "..       ...      ...      ...      ...      ...  ...       ...       ...   \n",
       "263        0        0        0        0        0  ...     50442     50952   \n",
       "264        0        0        0        0        0  ...        10        10   \n",
       "265        0        0        0        0        0  ...      2060      2060   \n",
       "266        0        0        0        0        0  ...     16117     16200   \n",
       "267        0        0        0        0        0  ...      8276      8303   \n",
       "\n",
       "     10/27/20  10/28/20  10/29/20  10/30/20  10/31/20  11/1/20  11/2/20  \\\n",
       "0       41032     41145     41268     41334     41425    41501    41633   \n",
       "1       19729     20040     20315     20634     20875    21202    21523   \n",
       "2       56706     57026     57332     57651     57942    58272    58574   \n",
       "3        4410      4517      4567      4665      4756     4825     4888   \n",
       "4        9871     10074     10269     10558     10805    11035    11228   \n",
       "..        ...       ...       ...       ...       ...      ...      ...   \n",
       "263     51528     51948     52571     53075     53520    54060    54775   \n",
       "264        10        10        10        10        10       10       10   \n",
       "265      2060      2061      2062      2062      2063     2063     2063   \n",
       "266     16243     16285     16325     16415     16432    16480    16543   \n",
       "267      8315      8320      8349      8362      8367     8374     8389   \n",
       "\n",
       "     11/3/20  \n",
       "0      41728  \n",
       "1      21904  \n",
       "2      58979  \n",
       "3       4910  \n",
       "4      11577  \n",
       "..       ...  \n",
       "263    55408  \n",
       "264       10  \n",
       "265     2063  \n",
       "266    16661  \n",
       "267     8410  \n",
       "\n",
       "[268 rows x 291 columns]"
      ]
     },
     "execution_count": 2,
     "metadata": {},
     "output_type": "execute_result"
    }
   ],
   "source": [
    "df = pd.read_csv('https://raw.githubusercontent.com/CSSEGISandData/COVID-19/master/csse_covid_19_data/csse_covid_19_time_series/time_series_covid19_confirmed_global.csv')\n",
    "df"
   ]
  },
  {
   "cell_type": "markdown",
   "metadata": {},
   "source": [
    "### 2. Data Manipulation"
   ]
  },
  {
   "cell_type": "markdown",
   "metadata": {},
   "source": [
    "#### Getting the total number of cases around the world every day"
   ]
  },
  {
   "cell_type": "code",
   "execution_count": 3,
   "metadata": {},
   "outputs": [],
   "source": [
    "World = pd.DataFrame(df.groupby('Country/Region').sum().sum()[2:].reset_index())"
   ]
  },
  {
   "cell_type": "markdown",
   "metadata": {},
   "source": [
    "#### Renaming the columns of the dataframe to (Date, Total_Cases)"
   ]
  },
  {
   "cell_type": "code",
   "execution_count": 4,
   "metadata": {},
   "outputs": [
    {
     "data": {
      "text/html": [
       "<div>\n",
       "<style scoped>\n",
       "    .dataframe tbody tr th:only-of-type {\n",
       "        vertical-align: middle;\n",
       "    }\n",
       "\n",
       "    .dataframe tbody tr th {\n",
       "        vertical-align: top;\n",
       "    }\n",
       "\n",
       "    .dataframe thead th {\n",
       "        text-align: right;\n",
       "    }\n",
       "</style>\n",
       "<table border=\"1\" class=\"dataframe\">\n",
       "  <thead>\n",
       "    <tr style=\"text-align: right;\">\n",
       "      <th></th>\n",
       "      <th>Date</th>\n",
       "      <th>Total_Cases</th>\n",
       "    </tr>\n",
       "  </thead>\n",
       "  <tbody>\n",
       "    <tr>\n",
       "      <th>0</th>\n",
       "      <td>1/22/20</td>\n",
       "      <td>555.0</td>\n",
       "    </tr>\n",
       "    <tr>\n",
       "      <th>1</th>\n",
       "      <td>1/23/20</td>\n",
       "      <td>654.0</td>\n",
       "    </tr>\n",
       "    <tr>\n",
       "      <th>2</th>\n",
       "      <td>1/24/20</td>\n",
       "      <td>941.0</td>\n",
       "    </tr>\n",
       "    <tr>\n",
       "      <th>3</th>\n",
       "      <td>1/25/20</td>\n",
       "      <td>1434.0</td>\n",
       "    </tr>\n",
       "    <tr>\n",
       "      <th>4</th>\n",
       "      <td>1/26/20</td>\n",
       "      <td>2118.0</td>\n",
       "    </tr>\n",
       "    <tr>\n",
       "      <th>...</th>\n",
       "      <td>...</td>\n",
       "      <td>...</td>\n",
       "    </tr>\n",
       "    <tr>\n",
       "      <th>282</th>\n",
       "      <td>10/30/20</td>\n",
       "      <td>45594203.0</td>\n",
       "    </tr>\n",
       "    <tr>\n",
       "      <th>283</th>\n",
       "      <td>10/31/20</td>\n",
       "      <td>46070822.0</td>\n",
       "    </tr>\n",
       "    <tr>\n",
       "      <th>284</th>\n",
       "      <td>11/1/20</td>\n",
       "      <td>46502095.0</td>\n",
       "    </tr>\n",
       "    <tr>\n",
       "      <th>285</th>\n",
       "      <td>11/2/20</td>\n",
       "      <td>46959365.0</td>\n",
       "    </tr>\n",
       "    <tr>\n",
       "      <th>286</th>\n",
       "      <td>11/3/20</td>\n",
       "      <td>47405395.0</td>\n",
       "    </tr>\n",
       "  </tbody>\n",
       "</table>\n",
       "<p>287 rows × 2 columns</p>\n",
       "</div>"
      ],
      "text/plain": [
       "         Date  Total_Cases\n",
       "0     1/22/20        555.0\n",
       "1     1/23/20        654.0\n",
       "2     1/24/20        941.0\n",
       "3     1/25/20       1434.0\n",
       "4     1/26/20       2118.0\n",
       "..        ...          ...\n",
       "282  10/30/20   45594203.0\n",
       "283  10/31/20   46070822.0\n",
       "284   11/1/20   46502095.0\n",
       "285   11/2/20   46959365.0\n",
       "286   11/3/20   47405395.0\n",
       "\n",
       "[287 rows x 2 columns]"
      ]
     },
     "execution_count": 4,
     "metadata": {},
     "output_type": "execute_result"
    }
   ],
   "source": [
    "World.columns = ['Date','Total_Cases']\n",
    "World"
   ]
  },
  {
   "cell_type": "markdown",
   "metadata": {},
   "source": [
    "##### #So, we can see that the data recorded from January 22th 2020 until November  3rd  2020 (287 Days)"
   ]
  },
  {
   "cell_type": "markdown",
   "metadata": {},
   "source": [
    "#### Converting the Date column to datetime type"
   ]
  },
  {
   "cell_type": "code",
   "execution_count": 5,
   "metadata": {},
   "outputs": [],
   "source": [
    "World.Date = pd.to_datetime(World.Date)"
   ]
  },
  {
   "cell_type": "markdown",
   "metadata": {},
   "source": [
    "#### Getting the daily cases"
   ]
  },
  {
   "cell_type": "code",
   "execution_count": 6,
   "metadata": {},
   "outputs": [
    {
     "data": {
      "text/html": [
       "<div>\n",
       "<style scoped>\n",
       "    .dataframe tbody tr th:only-of-type {\n",
       "        vertical-align: middle;\n",
       "    }\n",
       "\n",
       "    .dataframe tbody tr th {\n",
       "        vertical-align: top;\n",
       "    }\n",
       "\n",
       "    .dataframe thead th {\n",
       "        text-align: right;\n",
       "    }\n",
       "</style>\n",
       "<table border=\"1\" class=\"dataframe\">\n",
       "  <thead>\n",
       "    <tr style=\"text-align: right;\">\n",
       "      <th></th>\n",
       "      <th>Date</th>\n",
       "      <th>Total_Cases</th>\n",
       "      <th>Daily_Cases</th>\n",
       "    </tr>\n",
       "  </thead>\n",
       "  <tbody>\n",
       "    <tr>\n",
       "      <th>0</th>\n",
       "      <td>2020-01-22</td>\n",
       "      <td>555.0</td>\n",
       "      <td>0.0</td>\n",
       "    </tr>\n",
       "    <tr>\n",
       "      <th>1</th>\n",
       "      <td>2020-01-23</td>\n",
       "      <td>654.0</td>\n",
       "      <td>99.0</td>\n",
       "    </tr>\n",
       "    <tr>\n",
       "      <th>2</th>\n",
       "      <td>2020-01-24</td>\n",
       "      <td>941.0</td>\n",
       "      <td>287.0</td>\n",
       "    </tr>\n",
       "    <tr>\n",
       "      <th>3</th>\n",
       "      <td>2020-01-25</td>\n",
       "      <td>1434.0</td>\n",
       "      <td>493.0</td>\n",
       "    </tr>\n",
       "    <tr>\n",
       "      <th>4</th>\n",
       "      <td>2020-01-26</td>\n",
       "      <td>2118.0</td>\n",
       "      <td>684.0</td>\n",
       "    </tr>\n",
       "    <tr>\n",
       "      <th>...</th>\n",
       "      <td>...</td>\n",
       "      <td>...</td>\n",
       "      <td>...</td>\n",
       "    </tr>\n",
       "    <tr>\n",
       "      <th>282</th>\n",
       "      <td>2020-10-30</td>\n",
       "      <td>45594203.0</td>\n",
       "      <td>570759.0</td>\n",
       "    </tr>\n",
       "    <tr>\n",
       "      <th>283</th>\n",
       "      <td>2020-10-31</td>\n",
       "      <td>46070822.0</td>\n",
       "      <td>476619.0</td>\n",
       "    </tr>\n",
       "    <tr>\n",
       "      <th>284</th>\n",
       "      <td>2020-11-01</td>\n",
       "      <td>46502095.0</td>\n",
       "      <td>431273.0</td>\n",
       "    </tr>\n",
       "    <tr>\n",
       "      <th>285</th>\n",
       "      <td>2020-11-02</td>\n",
       "      <td>46959365.0</td>\n",
       "      <td>457270.0</td>\n",
       "    </tr>\n",
       "    <tr>\n",
       "      <th>286</th>\n",
       "      <td>2020-11-03</td>\n",
       "      <td>47405395.0</td>\n",
       "      <td>446030.0</td>\n",
       "    </tr>\n",
       "  </tbody>\n",
       "</table>\n",
       "<p>287 rows × 3 columns</p>\n",
       "</div>"
      ],
      "text/plain": [
       "          Date  Total_Cases  Daily_Cases\n",
       "0   2020-01-22        555.0          0.0\n",
       "1   2020-01-23        654.0         99.0\n",
       "2   2020-01-24        941.0        287.0\n",
       "3   2020-01-25       1434.0        493.0\n",
       "4   2020-01-26       2118.0        684.0\n",
       "..         ...          ...          ...\n",
       "282 2020-10-30   45594203.0     570759.0\n",
       "283 2020-10-31   46070822.0     476619.0\n",
       "284 2020-11-01   46502095.0     431273.0\n",
       "285 2020-11-02   46959365.0     457270.0\n",
       "286 2020-11-03   47405395.0     446030.0\n",
       "\n",
       "[287 rows x 3 columns]"
      ]
     },
     "execution_count": 6,
     "metadata": {},
     "output_type": "execute_result"
    }
   ],
   "source": [
    "World['Daily_Cases'] = World['Total_Cases'].diff()\n",
    "World['Daily_Cases'].fillna(0, inplace=True)\n",
    "World"
   ]
  },
  {
   "cell_type": "markdown",
   "metadata": {},
   "source": [
    "#### Getting the month as new column from Date column"
   ]
  },
  {
   "cell_type": "code",
   "execution_count": 7,
   "metadata": {},
   "outputs": [
    {
     "data": {
      "text/html": [
       "<div>\n",
       "<style scoped>\n",
       "    .dataframe tbody tr th:only-of-type {\n",
       "        vertical-align: middle;\n",
       "    }\n",
       "\n",
       "    .dataframe tbody tr th {\n",
       "        vertical-align: top;\n",
       "    }\n",
       "\n",
       "    .dataframe thead th {\n",
       "        text-align: right;\n",
       "    }\n",
       "</style>\n",
       "<table border=\"1\" class=\"dataframe\">\n",
       "  <thead>\n",
       "    <tr style=\"text-align: right;\">\n",
       "      <th></th>\n",
       "      <th>Date</th>\n",
       "      <th>Total_Cases</th>\n",
       "      <th>Daily_Cases</th>\n",
       "      <th>Month</th>\n",
       "    </tr>\n",
       "  </thead>\n",
       "  <tbody>\n",
       "    <tr>\n",
       "      <th>0</th>\n",
       "      <td>2020-01-22</td>\n",
       "      <td>555.0</td>\n",
       "      <td>0.0</td>\n",
       "      <td>1</td>\n",
       "    </tr>\n",
       "    <tr>\n",
       "      <th>1</th>\n",
       "      <td>2020-01-23</td>\n",
       "      <td>654.0</td>\n",
       "      <td>99.0</td>\n",
       "      <td>1</td>\n",
       "    </tr>\n",
       "    <tr>\n",
       "      <th>2</th>\n",
       "      <td>2020-01-24</td>\n",
       "      <td>941.0</td>\n",
       "      <td>287.0</td>\n",
       "      <td>1</td>\n",
       "    </tr>\n",
       "    <tr>\n",
       "      <th>3</th>\n",
       "      <td>2020-01-25</td>\n",
       "      <td>1434.0</td>\n",
       "      <td>493.0</td>\n",
       "      <td>1</td>\n",
       "    </tr>\n",
       "    <tr>\n",
       "      <th>4</th>\n",
       "      <td>2020-01-26</td>\n",
       "      <td>2118.0</td>\n",
       "      <td>684.0</td>\n",
       "      <td>1</td>\n",
       "    </tr>\n",
       "    <tr>\n",
       "      <th>...</th>\n",
       "      <td>...</td>\n",
       "      <td>...</td>\n",
       "      <td>...</td>\n",
       "      <td>...</td>\n",
       "    </tr>\n",
       "    <tr>\n",
       "      <th>282</th>\n",
       "      <td>2020-10-30</td>\n",
       "      <td>45594203.0</td>\n",
       "      <td>570759.0</td>\n",
       "      <td>10</td>\n",
       "    </tr>\n",
       "    <tr>\n",
       "      <th>283</th>\n",
       "      <td>2020-10-31</td>\n",
       "      <td>46070822.0</td>\n",
       "      <td>476619.0</td>\n",
       "      <td>10</td>\n",
       "    </tr>\n",
       "    <tr>\n",
       "      <th>284</th>\n",
       "      <td>2020-11-01</td>\n",
       "      <td>46502095.0</td>\n",
       "      <td>431273.0</td>\n",
       "      <td>11</td>\n",
       "    </tr>\n",
       "    <tr>\n",
       "      <th>285</th>\n",
       "      <td>2020-11-02</td>\n",
       "      <td>46959365.0</td>\n",
       "      <td>457270.0</td>\n",
       "      <td>11</td>\n",
       "    </tr>\n",
       "    <tr>\n",
       "      <th>286</th>\n",
       "      <td>2020-11-03</td>\n",
       "      <td>47405395.0</td>\n",
       "      <td>446030.0</td>\n",
       "      <td>11</td>\n",
       "    </tr>\n",
       "  </tbody>\n",
       "</table>\n",
       "<p>287 rows × 4 columns</p>\n",
       "</div>"
      ],
      "text/plain": [
       "          Date  Total_Cases  Daily_Cases  Month\n",
       "0   2020-01-22        555.0          0.0      1\n",
       "1   2020-01-23        654.0         99.0      1\n",
       "2   2020-01-24        941.0        287.0      1\n",
       "3   2020-01-25       1434.0        493.0      1\n",
       "4   2020-01-26       2118.0        684.0      1\n",
       "..         ...          ...          ...    ...\n",
       "282 2020-10-30   45594203.0     570759.0     10\n",
       "283 2020-10-31   46070822.0     476619.0     10\n",
       "284 2020-11-01   46502095.0     431273.0     11\n",
       "285 2020-11-02   46959365.0     457270.0     11\n",
       "286 2020-11-03   47405395.0     446030.0     11\n",
       "\n",
       "[287 rows x 4 columns]"
      ]
     },
     "execution_count": 7,
     "metadata": {},
     "output_type": "execute_result"
    }
   ],
   "source": [
    "World['Month'] = World['Date'].astype('str').str[5:7]\n",
    "World['Month'] = World['Month'].astype('int32')\n",
    "World"
   ]
  },
  {
   "cell_type": "code",
   "execution_count": null,
   "metadata": {},
   "outputs": [],
   "source": []
  },
  {
   "cell_type": "markdown",
   "metadata": {},
   "source": [
    "### 3. Plotting"
   ]
  },
  {
   "cell_type": "code",
   "execution_count": 8,
   "metadata": {},
   "outputs": [
    {
     "data": {
      "image/png": "[encoded data removed]",
      "text/plain": [
       "<Figure size 720x432 with 1 Axes>"
      ]
     },
     "metadata": {
      "needs_background": "light"
     },
     "output_type": "display_data"
    }
   ],
   "source": [
    "plt.figure(figsize=(10,6))\n",
    "plt.plot(World.Date, World.Total_Cases)\n",
    "plt.xticks(rotation=45)\n",
    "plt.xlabel('Date',fontdict={'fontsize':16})\n",
    "plt.ylabel('Total Cases',fontdict={'fontsize':16})\n",
    "plt.title('World Total Cases over Time',fontdict={'fontsize':20})\n",
    "plt.show()"
   ]
  },
  {
   "cell_type": "code",
   "execution_count": 9,
   "metadata": {},
   "outputs": [
    {
     "data": {
      "image/png": "[encoded data removed]",
      "text/plain": [
       "<Figure size 720x432 with 1 Axes>"
      ]
     },
     "metadata": {
      "needs_background": "light"
     },
     "output_type": "display_data"
    }
   ],
   "source": [
    "plt.figure(figsize=(10,6))\n",
    "plt.plot(World.Date, World.Daily_Cases)\n",
    "plt.xticks(rotation=45)\n",
    "plt.xlabel('Date',fontdict={'fontsize':16})\n",
    "plt.ylabel('Total Cases',fontdict={'fontsize':16})\n",
    "plt.title('World Daily Cases over Time',fontdict={'fontsize':20})\n",
    "plt.show()"
   ]
  },
  {
   "cell_type": "code",
   "execution_count": 10,
   "metadata": {},
   "outputs": [
    {
     "data": {
      "image/png": "[encoded data removed]",
      "text/plain": [
       "<Figure size 720x432 with 1 Axes>"
      ]
     },
     "metadata": {
      "needs_background": "light"
     },
     "output_type": "display_data"
    }
   ],
   "source": [
    "World.groupby(['Month']).sum()['Daily_Cases'].plot(title='Number of cases per month around world'\n",
    "                                                   ,figsize=(10,6),kind='bar', ylabel='Number of Cases')\n",
    "plt.show()"
   ]
  },
  {
   "cell_type": "code",
   "execution_count": 11,
   "metadata": {},
   "outputs": [
    {
     "data": {
      "image/png": "[encoded data removed]",
      "text/plain": [
       "<Figure size 864x576 with 1 Axes>"
      ]
     },
     "metadata": {
      "needs_background": "light"
     },
     "output_type": "display_data"
    }
   ],
   "source": [
    "plt.title('Worlds Top10 Countries in Number of Total Cases',fontdict={'fontsize':20})\n",
    "plt.xlabel('Number of Total Cases',fontdict={'fontsize':16})\n",
    "plt.ylabel('Country/Region',fontdict={'fontsize':16})\n",
    "df.groupby('Country/Region').sum().iloc[:,2:]['11/3/20'].sort_values().iloc[-10:].plot(kind='barh', figsize=(12,8))\n",
    "plt.show()"
   ]
  },
  {
   "cell_type": "markdown",
   "metadata": {},
   "source": [
    "### 4. Data Preprocessing"
   ]
  },
  {
   "cell_type": "code",
   "execution_count": 12,
   "metadata": {},
   "outputs": [],
   "source": [
    "X = World['Date'].map(datetime.datetime.toordinal)\n",
    "X = X.values.reshape(-1,1)"
   ]
  },
  {
   "cell_type": "code",
   "execution_count": 13,
   "metadata": {},
   "outputs": [],
   "source": [
    "y = World['Daily_Cases'].values.reshape(-1, 1)"
   ]
  },
  {
   "cell_type": "code",
   "execution_count": 14,
   "metadata": {},
   "outputs": [],
   "source": [
    "Scaler_X = StandardScaler()\n",
    "Scaler_y = StandardScaler()\n",
    "\n",
    "Scaled_X = Scaler_X.fit_transform(X)\n",
    "Scaled_y = Scaler_y.fit_transform(y)"
   ]
  },
  {
   "cell_type": "code",
   "execution_count": 15,
   "metadata": {},
   "outputs": [],
   "source": [
    "First_date_to_predict = '04/11/20'\n",
    "Last_date_to_predict = '31/12/20'\n",
    "\n",
    "First_date_to_predict = datetime.datetime.strptime(First_date_to_predict, '%d/%m/%y')\n",
    "Last_date_to_predict = datetime.datetime.strptime(Last_date_to_predict, '%d/%m/%y')\n",
    "#First_date_to_predict = datetime.datetime.toordinal(First_date_to_predict.astype(datetime))\n",
    "#Last_date_to_predict = datetime.datetime.toordinal(datetime.datetime(Last_date_to_predict))\n",
    "\n",
    "Dates_to_predict = [i for i in range(First_date_to_predict.toordinal(), Last_date_to_predict.toordinal()+1)]\n",
    "#Dates_to_predict"
   ]
  },
  {
   "cell_type": "code",
   "execution_count": 16,
   "metadata": {},
   "outputs": [
    {
     "data": {
      "text/plain": [
       "datetime.date(2020, 12, 31)"
      ]
     },
     "execution_count": 16,
     "metadata": {},
     "output_type": "execute_result"
    }
   ],
   "source": [
    "datetime.date.fromordinal(Dates_to_predict[-1])"
   ]
  },
  {
   "cell_type": "code",
   "execution_count": 17,
   "metadata": {
    "scrolled": false
   },
   "outputs": [
    {
     "data": {
      "image/png": "[encoded data removed]",
      "text/plain": [
       "<Figure size 864x288 with 2 Axes>"
      ]
     },
     "metadata": {
      "needs_background": "light"
     },
     "output_type": "display_data"
    },
    {
     "data": {
      "image/png": "[encoded data removed]",
      "text/plain": [
       "<Figure size 864x288 with 2 Axes>"
      ]
     },
     "metadata": {
      "needs_background": "light"
     },
     "output_type": "display_data"
    }
   ],
   "source": [
    "fig, axes = plt.subplots(1, 2, figsize=(12, 4), sharey=True)\n",
    "fig.suptitle('Regression plots for degrees 1, 2', fontsize=20)\n",
    "sns.regplot(ax=axes[0],x=Scaled_X,y=Scaled_y, order=1,line_kws={\"color\": \"red\"})\n",
    "sns.regplot(ax=axes[1],x=Scaled_X,y=Scaled_y,order=2,line_kws={\"color\": \"green\"})\n",
    "fig, axes = plt.subplots(1, 2, figsize=(12, 4), sharey=True)\n",
    "fig.suptitle('Regression plots for degrees 3, 4', fontsize=20)\n",
    "sns.regplot(ax=axes[0],x=Scaled_X,y=Scaled_y,order=3,line_kws={\"color\": \"yellow\"})\n",
    "sns.regplot(ax=axes[1],x=Scaled_X,y=Scaled_y,order=4,line_kws={\"color\": \"black\"})\n",
    "plt.show()"
   ]
  },
  {
   "cell_type": "markdown",
   "metadata": {},
   "source": [
    "### 5. Linear Regression"
   ]
  },
  {
   "cell_type": "code",
   "execution_count": 18,
   "metadata": {},
   "outputs": [
    {
     "data": {
      "text/plain": [
       "LinearRegression(copy_X=True, fit_intercept=True, n_jobs=None, normalize=False)"
      ]
     },
     "execution_count": 18,
     "metadata": {},
     "output_type": "execute_result"
    }
   ],
   "source": [
    "lr = LinearRegression()\n",
    "lr.fit(Scaled_X, Scaled_y.ravel())"
   ]
  },
  {
   "cell_type": "code",
   "execution_count": 19,
   "metadata": {},
   "outputs": [
    {
     "data": {
      "image/png": "[encoded data removed]",
      "text/plain": [
       "<Figure size 576x360 with 1 Axes>"
      ]
     },
     "metadata": {
      "needs_background": "light"
     },
     "output_type": "display_data"
    }
   ],
   "source": [
    "plt.figure(figsize=(8,5))\n",
    "plt.plot(Scaled_X,Scaled_y,color ='blue', label='Train Data')\n",
    "plt.plot(Scaled_X, lr.predict(Scaled_X), color = 'red', label='Fit line')\n",
    "plt.plot(Scaler_X.transform(np.array(Dates_to_predict).reshape(-1,1)), lr.predict(Scaler_X.transform(np.array(Dates_to_predict).reshape(-1,1))), color = 'green', label='predicted')\n",
    "plt.legend()\n",
    "plt.show()"
   ]
  },
  {
   "cell_type": "code",
   "execution_count": 20,
   "metadata": {
    "scrolled": true
   },
   "outputs": [
    {
     "name": "stdout",
     "output_type": "stream",
     "text": [
      "Mean Squared Error:  0.08631793152734449\n",
      "Mean Absolute Error:  0.21371666804812\n"
     ]
    }
   ],
   "source": [
    "print('Mean Squared Error: ',mean_squared_error(Scaled_y, lr.predict(Scaled_X)))\n",
    "print('Mean Absolute Error: ',mean_absolute_error(Scaled_y, lr.predict(Scaled_X)))"
   ]
  },
  {
   "cell_type": "markdown",
   "metadata": {},
   "source": [
    "### 6. Support Vector Regressor using RBF kernel"
   ]
  },
  {
   "cell_type": "code",
   "execution_count": 21,
   "metadata": {},
   "outputs": [
    {
     "data": {
      "text/plain": [
       "SVR(C=10, cache_size=200, coef0=0.0, degree=3, epsilon=0.1, gamma='scale',\n",
       "    kernel='rbf', max_iter=-1, shrinking=True, tol=0.001, verbose=False)"
      ]
     },
     "execution_count": 21,
     "metadata": {},
     "output_type": "execute_result"
    }
   ],
   "source": [
    "regressor_rbf = SVR(kernel='rbf',C=10)\n",
    "regressor_rbf.fit(Scaled_X, Scaled_y.ravel())"
   ]
  },
  {
   "cell_type": "code",
   "execution_count": 22,
   "metadata": {},
   "outputs": [
    {
     "data": {
      "image/png": "[encoded data removed]",
      "text/plain": [
       "<Figure size 576x360 with 1 Axes>"
      ]
     },
     "metadata": {
      "needs_background": "light"
     },
     "output_type": "display_data"
    }
   ],
   "source": [
    "plt.figure(figsize=(8,5))\n",
    "plt.plot(Scaled_X,Scaled_y,color ='red', label='Train Data')\n",
    "plt.plot(Scaled_X, regressor_rbf.predict(Scaled_X), color = 'blue', label='Fit line')\n",
    "plt.plot(Scaler_X.transform(np.array(Dates_to_predict).reshape(-1,1)), regressor_rbf.predict(Scaler_X.transform(np.array(Dates_to_predict).reshape(-1,1))), color = 'green', label='predicted')\n",
    "plt.legend()\n",
    "plt.show()"
   ]
  },
  {
   "cell_type": "code",
   "execution_count": 23,
   "metadata": {
    "scrolled": true
   },
   "outputs": [
    {
     "name": "stdout",
     "output_type": "stream",
     "text": [
      "Mean Squared Error:  0.03709687451510834\n",
      "Mean Absolute Error:  0.13152950070036654\n"
     ]
    }
   ],
   "source": [
    "print('Mean Squared Error: ',mean_squared_error(Scaled_y, regressor_rbf.predict(Scaled_X)))\n",
    "print('Mean Absolute Error: ',mean_absolute_error(Scaled_y, regressor_rbf.predict(Scaled_X)))"
   ]
  },
  {
   "cell_type": "code",
   "execution_count": null,
   "metadata": {},
   "outputs": [],
   "source": []
  },
  {
   "cell_type": "markdown",
   "metadata": {},
   "source": [
    "### 7. Support Vector Regressor using poly kernel"
   ]
  },
  {
   "cell_type": "code",
   "execution_count": 24,
   "metadata": {},
   "outputs": [
    {
     "data": {
      "text/plain": [
       "SVR(C=1.0, cache_size=200, coef0=0.0, degree=3, epsilon=0.1, gamma='scale',\n",
       "    kernel='poly', max_iter=-1, shrinking=True, tol=0.001, verbose=False)"
      ]
     },
     "execution_count": 24,
     "metadata": {},
     "output_type": "execute_result"
    }
   ],
   "source": [
    "regressor_poly = SVR(kernel='poly')\n",
    "regressor_poly.fit(Scaled_X, Scaled_y.ravel())"
   ]
  },
  {
   "cell_type": "code",
   "execution_count": 25,
   "metadata": {},
   "outputs": [
    {
     "data": {
      "image/png": "[encoded data removed]",
      "text/plain": [
       "<Figure size 576x360 with 1 Axes>"
      ]
     },
     "metadata": {
      "needs_background": "light"
     },
     "output_type": "display_data"
    }
   ],
   "source": [
    "plt.figure(figsize=(8,5))\n",
    "plt.plot(Scaled_X,Scaled_y,color ='red', label='Train Data')\n",
    "plt.plot(Scaled_X, regressor_poly.predict(Scaled_X), color = 'blue', label='Fit line')\n",
    "plt.plot(Scaler_X.transform(np.array(Dates_to_predict).reshape(-1,1)), regressor_poly.predict(Scaler_X.transform(np.array(Dates_to_predict).reshape(-1,1))), color = 'green', label='predicted')\n",
    "plt.legend()\n",
    "plt.show()"
   ]
  },
  {
   "cell_type": "code",
   "execution_count": 26,
   "metadata": {},
   "outputs": [
    {
     "name": "stdout",
     "output_type": "stream",
     "text": [
      "Mean Squared Error:  0.22152552793753977\n",
      "Mean Absolute Error:  0.4012523804938559\n"
     ]
    }
   ],
   "source": [
    "print('Mean Squared Error: ',mean_squared_error(Scaled_y, regressor_poly.predict(Scaled_X)))\n",
    "print('Mean Absolute Error: ',mean_absolute_error(Scaled_y, regressor_poly.predict(Scaled_X)))"
   ]
  },
  {
   "cell_type": "code",
   "execution_count": null,
   "metadata": {},
   "outputs": [],
   "source": []
  },
  {
   "cell_type": "code",
   "execution_count": null,
   "metadata": {},
   "outputs": [],
   "source": []
  },
  {
   "cell_type": "markdown",
   "metadata": {},
   "source": [
    "### 8. Showing predictions for December"
   ]
  },
  {
   "cell_type": "code",
   "execution_count": 27,
   "metadata": {
    "scrolled": false
   },
   "outputs": [],
   "source": [
    "Linear_Date = [] ; Linear_cases = []\n",
    "Rbf_Date = [] ; Rbf_cases = []\n",
    "Poly_Date = [] ; Poly_cases = []\n",
    "\n",
    "for j,i in enumerate(Dates_to_predict[27:]):\n",
    "    x = lr.predict(np.array(Scaler_X.transform([[i]])))\n",
    "    Linear_Date.append(datetime.date.fromordinal(i))\n",
    "    Linear_cases.append(Scaler_y.inverse_transform(x)[0])\n",
    "    \n",
    "    y = regressor_rbf.predict(np.array(Scaler_X.transform([[i]])))\n",
    "    Rbf_Date.append(datetime.date.fromordinal(i))\n",
    "    Rbf_cases.append(Scaler_y.inverse_transform(y)[0])\n",
    "    \n",
    "    z = regressor_poly.predict(np.array(Scaler_X.transform([[i]])))\n",
    "    Poly_Date.append(datetime.date.fromordinal(i))\n",
    "    Poly_cases.append(Scaler_y.inverse_transform(z)[0])\n",
    "    "
   ]
  },
  {
   "cell_type": "markdown",
   "metadata": {},
   "source": [
    "##### Linear Regression predictions"
   ]
  },
  {
   "cell_type": "code",
   "execution_count": 28,
   "metadata": {},
   "outputs": [
    {
     "data": {
      "text/html": [
       "<div>\n",
       "<style scoped>\n",
       "    .dataframe tbody tr th:only-of-type {\n",
       "        vertical-align: middle;\n",
       "    }\n",
       "\n",
       "    .dataframe tbody tr th {\n",
       "        vertical-align: top;\n",
       "    }\n",
       "\n",
       "    .dataframe thead th {\n",
       "        text-align: right;\n",
       "    }\n",
       "</style>\n",
       "<table border=\"1\" class=\"dataframe\">\n",
       "  <thead>\n",
       "    <tr style=\"text-align: right;\">\n",
       "      <th></th>\n",
       "      <th>Date</th>\n",
       "      <th>Predicted Cases Number</th>\n",
       "    </tr>\n",
       "  </thead>\n",
       "  <tbody>\n",
       "    <tr>\n",
       "      <th>0</th>\n",
       "      <td>2020-12-01</td>\n",
       "      <td>425253</td>\n",
       "    </tr>\n",
       "    <tr>\n",
       "      <th>1</th>\n",
       "      <td>2020-12-02</td>\n",
       "      <td>426774</td>\n",
       "    </tr>\n",
       "    <tr>\n",
       "      <th>2</th>\n",
       "      <td>2020-12-03</td>\n",
       "      <td>428295</td>\n",
       "    </tr>\n",
       "    <tr>\n",
       "      <th>3</th>\n",
       "      <td>2020-12-04</td>\n",
       "      <td>429816</td>\n",
       "    </tr>\n",
       "    <tr>\n",
       "      <th>4</th>\n",
       "      <td>2020-12-05</td>\n",
       "      <td>431337</td>\n",
       "    </tr>\n",
       "    <tr>\n",
       "      <th>5</th>\n",
       "      <td>2020-12-06</td>\n",
       "      <td>432858</td>\n",
       "    </tr>\n",
       "    <tr>\n",
       "      <th>6</th>\n",
       "      <td>2020-12-07</td>\n",
       "      <td>434378</td>\n",
       "    </tr>\n",
       "    <tr>\n",
       "      <th>7</th>\n",
       "      <td>2020-12-08</td>\n",
       "      <td>435899</td>\n",
       "    </tr>\n",
       "    <tr>\n",
       "      <th>8</th>\n",
       "      <td>2020-12-09</td>\n",
       "      <td>437420</td>\n",
       "    </tr>\n",
       "    <tr>\n",
       "      <th>9</th>\n",
       "      <td>2020-12-10</td>\n",
       "      <td>438941</td>\n",
       "    </tr>\n",
       "    <tr>\n",
       "      <th>10</th>\n",
       "      <td>2020-12-11</td>\n",
       "      <td>440462</td>\n",
       "    </tr>\n",
       "    <tr>\n",
       "      <th>11</th>\n",
       "      <td>2020-12-12</td>\n",
       "      <td>441983</td>\n",
       "    </tr>\n",
       "    <tr>\n",
       "      <th>12</th>\n",
       "      <td>2020-12-13</td>\n",
       "      <td>443504</td>\n",
       "    </tr>\n",
       "    <tr>\n",
       "      <th>13</th>\n",
       "      <td>2020-12-14</td>\n",
       "      <td>445025</td>\n",
       "    </tr>\n",
       "    <tr>\n",
       "      <th>14</th>\n",
       "      <td>2020-12-15</td>\n",
       "      <td>446546</td>\n",
       "    </tr>\n",
       "    <tr>\n",
       "      <th>15</th>\n",
       "      <td>2020-12-16</td>\n",
       "      <td>448067</td>\n",
       "    </tr>\n",
       "    <tr>\n",
       "      <th>16</th>\n",
       "      <td>2020-12-17</td>\n",
       "      <td>449588</td>\n",
       "    </tr>\n",
       "    <tr>\n",
       "      <th>17</th>\n",
       "      <td>2020-12-18</td>\n",
       "      <td>451109</td>\n",
       "    </tr>\n",
       "    <tr>\n",
       "      <th>18</th>\n",
       "      <td>2020-12-19</td>\n",
       "      <td>452630</td>\n",
       "    </tr>\n",
       "    <tr>\n",
       "      <th>19</th>\n",
       "      <td>2020-12-20</td>\n",
       "      <td>454151</td>\n",
       "    </tr>\n",
       "    <tr>\n",
       "      <th>20</th>\n",
       "      <td>2020-12-21</td>\n",
       "      <td>455671</td>\n",
       "    </tr>\n",
       "    <tr>\n",
       "      <th>21</th>\n",
       "      <td>2020-12-22</td>\n",
       "      <td>457192</td>\n",
       "    </tr>\n",
       "    <tr>\n",
       "      <th>22</th>\n",
       "      <td>2020-12-23</td>\n",
       "      <td>458713</td>\n",
       "    </tr>\n",
       "    <tr>\n",
       "      <th>23</th>\n",
       "      <td>2020-12-24</td>\n",
       "      <td>460234</td>\n",
       "    </tr>\n",
       "    <tr>\n",
       "      <th>24</th>\n",
       "      <td>2020-12-25</td>\n",
       "      <td>461755</td>\n",
       "    </tr>\n",
       "    <tr>\n",
       "      <th>25</th>\n",
       "      <td>2020-12-26</td>\n",
       "      <td>463276</td>\n",
       "    </tr>\n",
       "    <tr>\n",
       "      <th>26</th>\n",
       "      <td>2020-12-27</td>\n",
       "      <td>464797</td>\n",
       "    </tr>\n",
       "    <tr>\n",
       "      <th>27</th>\n",
       "      <td>2020-12-28</td>\n",
       "      <td>466318</td>\n",
       "    </tr>\n",
       "    <tr>\n",
       "      <th>28</th>\n",
       "      <td>2020-12-29</td>\n",
       "      <td>467839</td>\n",
       "    </tr>\n",
       "    <tr>\n",
       "      <th>29</th>\n",
       "      <td>2020-12-30</td>\n",
       "      <td>469360</td>\n",
       "    </tr>\n",
       "    <tr>\n",
       "      <th>30</th>\n",
       "      <td>2020-12-31</td>\n",
       "      <td>470881</td>\n",
       "    </tr>\n",
       "  </tbody>\n",
       "</table>\n",
       "</div>"
      ],
      "text/plain": [
       "          Date  Predicted Cases Number\n",
       "0   2020-12-01                  425253\n",
       "1   2020-12-02                  426774\n",
       "2   2020-12-03                  428295\n",
       "3   2020-12-04                  429816\n",
       "4   2020-12-05                  431337\n",
       "5   2020-12-06                  432858\n",
       "6   2020-12-07                  434378\n",
       "7   2020-12-08                  435899\n",
       "8   2020-12-09                  437420\n",
       "9   2020-12-10                  438941\n",
       "10  2020-12-11                  440462\n",
       "11  2020-12-12                  441983\n",
       "12  2020-12-13                  443504\n",
       "13  2020-12-14                  445025\n",
       "14  2020-12-15                  446546\n",
       "15  2020-12-16                  448067\n",
       "16  2020-12-17                  449588\n",
       "17  2020-12-18                  451109\n",
       "18  2020-12-19                  452630\n",
       "19  2020-12-20                  454151\n",
       "20  2020-12-21                  455671\n",
       "21  2020-12-22                  457192\n",
       "22  2020-12-23                  458713\n",
       "23  2020-12-24                  460234\n",
       "24  2020-12-25                  461755\n",
       "25  2020-12-26                  463276\n",
       "26  2020-12-27                  464797\n",
       "27  2020-12-28                  466318\n",
       "28  2020-12-29                  467839\n",
       "29  2020-12-30                  469360\n",
       "30  2020-12-31                  470881"
      ]
     },
     "execution_count": 28,
     "metadata": {},
     "output_type": "execute_result"
    }
   ],
   "source": [
    "pd.set_option('display.float_format', '{:.0f}'.format)\n",
    "predicted_df_lr = pd.DataFrame(list(zip(Linear_Date, Linear_cases)), columns=['Date','Predicted Cases Number'])\n",
    "predicted_df_lr"
   ]
  },
  {
   "cell_type": "code",
   "execution_count": 29,
   "metadata": {},
   "outputs": [
    {
     "data": {
      "image/png": "[encoded data removed]",
      "text/plain": [
       "<Figure size 432x288 with 1 Axes>"
      ]
     },
     "metadata": {
      "needs_background": "light"
     },
     "output_type": "display_data"
    }
   ],
   "source": [
    "plt.plot(Linear_Date, Linear_cases)\n",
    "plt.title('Linear Regression predictions', fontdict={'fontsize':20})\n",
    "plt.xlabel('Number of predicted Cases',fontdict={'fontsize':16})\n",
    "plt.ylabel('Date',fontdict={'fontsize':16})\n",
    "plt.xticks(rotation=45)\n",
    "plt.show()"
   ]
  },
  {
   "cell_type": "markdown",
   "metadata": {},
   "source": [
    "##### RBF Regression predictions"
   ]
  },
  {
   "cell_type": "code",
   "execution_count": 30,
   "metadata": {},
   "outputs": [
    {
     "data": {
      "text/html": [
       "<div>\n",
       "<style scoped>\n",
       "    .dataframe tbody tr th:only-of-type {\n",
       "        vertical-align: middle;\n",
       "    }\n",
       "\n",
       "    .dataframe tbody tr th {\n",
       "        vertical-align: top;\n",
       "    }\n",
       "\n",
       "    .dataframe thead th {\n",
       "        text-align: right;\n",
       "    }\n",
       "</style>\n",
       "<table border=\"1\" class=\"dataframe\">\n",
       "  <thead>\n",
       "    <tr style=\"text-align: right;\">\n",
       "      <th></th>\n",
       "      <th>Date</th>\n",
       "      <th>Predicted Cases Number</th>\n",
       "    </tr>\n",
       "  </thead>\n",
       "  <tbody>\n",
       "    <tr>\n",
       "      <th>0</th>\n",
       "      <td>2020-12-01</td>\n",
       "      <td>593505</td>\n",
       "    </tr>\n",
       "    <tr>\n",
       "      <th>1</th>\n",
       "      <td>2020-12-02</td>\n",
       "      <td>595409</td>\n",
       "    </tr>\n",
       "    <tr>\n",
       "      <th>2</th>\n",
       "      <td>2020-12-03</td>\n",
       "      <td>597134</td>\n",
       "    </tr>\n",
       "    <tr>\n",
       "      <th>3</th>\n",
       "      <td>2020-12-04</td>\n",
       "      <td>598678</td>\n",
       "    </tr>\n",
       "    <tr>\n",
       "      <th>4</th>\n",
       "      <td>2020-12-05</td>\n",
       "      <td>600040</td>\n",
       "    </tr>\n",
       "    <tr>\n",
       "      <th>5</th>\n",
       "      <td>2020-12-06</td>\n",
       "      <td>601219</td>\n",
       "    </tr>\n",
       "    <tr>\n",
       "      <th>6</th>\n",
       "      <td>2020-12-07</td>\n",
       "      <td>602215</td>\n",
       "    </tr>\n",
       "    <tr>\n",
       "      <th>7</th>\n",
       "      <td>2020-12-08</td>\n",
       "      <td>603028</td>\n",
       "    </tr>\n",
       "    <tr>\n",
       "      <th>8</th>\n",
       "      <td>2020-12-09</td>\n",
       "      <td>603659</td>\n",
       "    </tr>\n",
       "    <tr>\n",
       "      <th>9</th>\n",
       "      <td>2020-12-10</td>\n",
       "      <td>604107</td>\n",
       "    </tr>\n",
       "    <tr>\n",
       "      <th>10</th>\n",
       "      <td>2020-12-11</td>\n",
       "      <td>604373</td>\n",
       "    </tr>\n",
       "    <tr>\n",
       "      <th>11</th>\n",
       "      <td>2020-12-12</td>\n",
       "      <td>604459</td>\n",
       "    </tr>\n",
       "    <tr>\n",
       "      <th>12</th>\n",
       "      <td>2020-12-13</td>\n",
       "      <td>604365</td>\n",
       "    </tr>\n",
       "    <tr>\n",
       "      <th>13</th>\n",
       "      <td>2020-12-14</td>\n",
       "      <td>604092</td>\n",
       "    </tr>\n",
       "    <tr>\n",
       "      <th>14</th>\n",
       "      <td>2020-12-15</td>\n",
       "      <td>603643</td>\n",
       "    </tr>\n",
       "    <tr>\n",
       "      <th>15</th>\n",
       "      <td>2020-12-16</td>\n",
       "      <td>603019</td>\n",
       "    </tr>\n",
       "    <tr>\n",
       "      <th>16</th>\n",
       "      <td>2020-12-17</td>\n",
       "      <td>602223</td>\n",
       "    </tr>\n",
       "    <tr>\n",
       "      <th>17</th>\n",
       "      <td>2020-12-18</td>\n",
       "      <td>601256</td>\n",
       "    </tr>\n",
       "    <tr>\n",
       "      <th>18</th>\n",
       "      <td>2020-12-19</td>\n",
       "      <td>600121</td>\n",
       "    </tr>\n",
       "    <tr>\n",
       "      <th>19</th>\n",
       "      <td>2020-12-20</td>\n",
       "      <td>598821</td>\n",
       "    </tr>\n",
       "    <tr>\n",
       "      <th>20</th>\n",
       "      <td>2020-12-21</td>\n",
       "      <td>597358</td>\n",
       "    </tr>\n",
       "    <tr>\n",
       "      <th>21</th>\n",
       "      <td>2020-12-22</td>\n",
       "      <td>595736</td>\n",
       "    </tr>\n",
       "    <tr>\n",
       "      <th>22</th>\n",
       "      <td>2020-12-23</td>\n",
       "      <td>593959</td>\n",
       "    </tr>\n",
       "    <tr>\n",
       "      <th>23</th>\n",
       "      <td>2020-12-24</td>\n",
       "      <td>592028</td>\n",
       "    </tr>\n",
       "    <tr>\n",
       "      <th>24</th>\n",
       "      <td>2020-12-25</td>\n",
       "      <td>589949</td>\n",
       "    </tr>\n",
       "    <tr>\n",
       "      <th>25</th>\n",
       "      <td>2020-12-26</td>\n",
       "      <td>587724</td>\n",
       "    </tr>\n",
       "    <tr>\n",
       "      <th>26</th>\n",
       "      <td>2020-12-27</td>\n",
       "      <td>585357</td>\n",
       "    </tr>\n",
       "    <tr>\n",
       "      <th>27</th>\n",
       "      <td>2020-12-28</td>\n",
       "      <td>582853</td>\n",
       "    </tr>\n",
       "    <tr>\n",
       "      <th>28</th>\n",
       "      <td>2020-12-29</td>\n",
       "      <td>580215</td>\n",
       "    </tr>\n",
       "    <tr>\n",
       "      <th>29</th>\n",
       "      <td>2020-12-30</td>\n",
       "      <td>577448</td>\n",
       "    </tr>\n",
       "    <tr>\n",
       "      <th>30</th>\n",
       "      <td>2020-12-31</td>\n",
       "      <td>574556</td>\n",
       "    </tr>\n",
       "  </tbody>\n",
       "</table>\n",
       "</div>"
      ],
      "text/plain": [
       "          Date  Predicted Cases Number\n",
       "0   2020-12-01                  593505\n",
       "1   2020-12-02                  595409\n",
       "2   2020-12-03                  597134\n",
       "3   2020-12-04                  598678\n",
       "4   2020-12-05                  600040\n",
       "5   2020-12-06                  601219\n",
       "6   2020-12-07                  602215\n",
       "7   2020-12-08                  603028\n",
       "8   2020-12-09                  603659\n",
       "9   2020-12-10                  604107\n",
       "10  2020-12-11                  604373\n",
       "11  2020-12-12                  604459\n",
       "12  2020-12-13                  604365\n",
       "13  2020-12-14                  604092\n",
       "14  2020-12-15                  603643\n",
       "15  2020-12-16                  603019\n",
       "16  2020-12-17                  602223\n",
       "17  2020-12-18                  601256\n",
       "18  2020-12-19                  600121\n",
       "19  2020-12-20                  598821\n",
       "20  2020-12-21                  597358\n",
       "21  2020-12-22                  595736\n",
       "22  2020-12-23                  593959\n",
       "23  2020-12-24                  592028\n",
       "24  2020-12-25                  589949\n",
       "25  2020-12-26                  587724\n",
       "26  2020-12-27                  585357\n",
       "27  2020-12-28                  582853\n",
       "28  2020-12-29                  580215\n",
       "29  2020-12-30                  577448\n",
       "30  2020-12-31                  574556"
      ]
     },
     "execution_count": 30,
     "metadata": {},
     "output_type": "execute_result"
    }
   ],
   "source": [
    "#pd.set_option('display.float_format', '{:.0f}'.format)\n",
    "predicted_df_rbf = pd.DataFrame(list(zip(Rbf_Date, Rbf_cases)), columns=['Date','Predicted Cases Number'])\n",
    "predicted_df_rbf"
   ]
  },
  {
   "cell_type": "code",
   "execution_count": 31,
   "metadata": {
    "scrolled": true
   },
   "outputs": [
    {
     "data": {
      "image/png": "[encoded data removed]",
      "text/plain": [
       "<Figure size 432x288 with 1 Axes>"
      ]
     },
     "metadata": {
      "needs_background": "light"
     },
     "output_type": "display_data"
    }
   ],
   "source": [
    "plt.plot(Rbf_Date, Rbf_cases)\n",
    "plt.title('RBF Regression predictions', fontdict={'fontsize':20})\n",
    "plt.xlabel('Number of predicted Cases',fontdict={'fontsize':16})\n",
    "plt.ylabel('Date',fontdict={'fontsize':16})\n",
    "plt.xticks(rotation=45)\n",
    "plt.show()"
   ]
  },
  {
   "cell_type": "markdown",
   "metadata": {},
   "source": [
    "##### Poly Regression predictions"
   ]
  },
  {
   "cell_type": "code",
   "execution_count": 32,
   "metadata": {},
   "outputs": [
    {
     "data": {
      "text/html": [
       "<div>\n",
       "<style scoped>\n",
       "    .dataframe tbody tr th:only-of-type {\n",
       "        vertical-align: middle;\n",
       "    }\n",
       "\n",
       "    .dataframe tbody tr th {\n",
       "        vertical-align: top;\n",
       "    }\n",
       "\n",
       "    .dataframe thead th {\n",
       "        text-align: right;\n",
       "    }\n",
       "</style>\n",
       "<table border=\"1\" class=\"dataframe\">\n",
       "  <thead>\n",
       "    <tr style=\"text-align: right;\">\n",
       "      <th></th>\n",
       "      <th>Date</th>\n",
       "      <th>Predicted Cases Number</th>\n",
       "    </tr>\n",
       "  </thead>\n",
       "  <tbody>\n",
       "    <tr>\n",
       "      <th>0</th>\n",
       "      <td>2020-12-01</td>\n",
       "      <td>716558</td>\n",
       "    </tr>\n",
       "    <tr>\n",
       "      <th>1</th>\n",
       "      <td>2020-12-02</td>\n",
       "      <td>726459</td>\n",
       "    </tr>\n",
       "    <tr>\n",
       "      <th>2</th>\n",
       "      <td>2020-12-03</td>\n",
       "      <td>736475</td>\n",
       "    </tr>\n",
       "    <tr>\n",
       "      <th>3</th>\n",
       "      <td>2020-12-04</td>\n",
       "      <td>746607</td>\n",
       "    </tr>\n",
       "    <tr>\n",
       "      <th>4</th>\n",
       "      <td>2020-12-05</td>\n",
       "      <td>756857</td>\n",
       "    </tr>\n",
       "    <tr>\n",
       "      <th>5</th>\n",
       "      <td>2020-12-06</td>\n",
       "      <td>767225</td>\n",
       "    </tr>\n",
       "    <tr>\n",
       "      <th>6</th>\n",
       "      <td>2020-12-07</td>\n",
       "      <td>777711</td>\n",
       "    </tr>\n",
       "    <tr>\n",
       "      <th>7</th>\n",
       "      <td>2020-12-08</td>\n",
       "      <td>788316</td>\n",
       "    </tr>\n",
       "    <tr>\n",
       "      <th>8</th>\n",
       "      <td>2020-12-09</td>\n",
       "      <td>799041</td>\n",
       "    </tr>\n",
       "    <tr>\n",
       "      <th>9</th>\n",
       "      <td>2020-12-10</td>\n",
       "      <td>809886</td>\n",
       "    </tr>\n",
       "    <tr>\n",
       "      <th>10</th>\n",
       "      <td>2020-12-11</td>\n",
       "      <td>820853</td>\n",
       "    </tr>\n",
       "    <tr>\n",
       "      <th>11</th>\n",
       "      <td>2020-12-12</td>\n",
       "      <td>831941</td>\n",
       "    </tr>\n",
       "    <tr>\n",
       "      <th>12</th>\n",
       "      <td>2020-12-13</td>\n",
       "      <td>843152</td>\n",
       "    </tr>\n",
       "    <tr>\n",
       "      <th>13</th>\n",
       "      <td>2020-12-14</td>\n",
       "      <td>854487</td>\n",
       "    </tr>\n",
       "    <tr>\n",
       "      <th>14</th>\n",
       "      <td>2020-12-15</td>\n",
       "      <td>865945</td>\n",
       "    </tr>\n",
       "    <tr>\n",
       "      <th>15</th>\n",
       "      <td>2020-12-16</td>\n",
       "      <td>877527</td>\n",
       "    </tr>\n",
       "    <tr>\n",
       "      <th>16</th>\n",
       "      <td>2020-12-17</td>\n",
       "      <td>889235</td>\n",
       "    </tr>\n",
       "    <tr>\n",
       "      <th>17</th>\n",
       "      <td>2020-12-18</td>\n",
       "      <td>901069</td>\n",
       "    </tr>\n",
       "    <tr>\n",
       "      <th>18</th>\n",
       "      <td>2020-12-19</td>\n",
       "      <td>913029</td>\n",
       "    </tr>\n",
       "    <tr>\n",
       "      <th>19</th>\n",
       "      <td>2020-12-20</td>\n",
       "      <td>925117</td>\n",
       "    </tr>\n",
       "    <tr>\n",
       "      <th>20</th>\n",
       "      <td>2020-12-21</td>\n",
       "      <td>937332</td>\n",
       "    </tr>\n",
       "    <tr>\n",
       "      <th>21</th>\n",
       "      <td>2020-12-22</td>\n",
       "      <td>949676</td>\n",
       "    </tr>\n",
       "    <tr>\n",
       "      <th>22</th>\n",
       "      <td>2020-12-23</td>\n",
       "      <td>962150</td>\n",
       "    </tr>\n",
       "    <tr>\n",
       "      <th>23</th>\n",
       "      <td>2020-12-24</td>\n",
       "      <td>974753</td>\n",
       "    </tr>\n",
       "    <tr>\n",
       "      <th>24</th>\n",
       "      <td>2020-12-25</td>\n",
       "      <td>987487</td>\n",
       "    </tr>\n",
       "    <tr>\n",
       "      <th>25</th>\n",
       "      <td>2020-12-26</td>\n",
       "      <td>1000352</td>\n",
       "    </tr>\n",
       "    <tr>\n",
       "      <th>26</th>\n",
       "      <td>2020-12-27</td>\n",
       "      <td>1013349</td>\n",
       "    </tr>\n",
       "    <tr>\n",
       "      <th>27</th>\n",
       "      <td>2020-12-28</td>\n",
       "      <td>1026478</td>\n",
       "    </tr>\n",
       "    <tr>\n",
       "      <th>28</th>\n",
       "      <td>2020-12-29</td>\n",
       "      <td>1039741</td>\n",
       "    </tr>\n",
       "    <tr>\n",
       "      <th>29</th>\n",
       "      <td>2020-12-30</td>\n",
       "      <td>1053138</td>\n",
       "    </tr>\n",
       "    <tr>\n",
       "      <th>30</th>\n",
       "      <td>2020-12-31</td>\n",
       "      <td>1066670</td>\n",
       "    </tr>\n",
       "  </tbody>\n",
       "</table>\n",
       "</div>"
      ],
      "text/plain": [
       "          Date  Predicted Cases Number\n",
       "0   2020-12-01                  716558\n",
       "1   2020-12-02                  726459\n",
       "2   2020-12-03                  736475\n",
       "3   2020-12-04                  746607\n",
       "4   2020-12-05                  756857\n",
       "5   2020-12-06                  767225\n",
       "6   2020-12-07                  777711\n",
       "7   2020-12-08                  788316\n",
       "8   2020-12-09                  799041\n",
       "9   2020-12-10                  809886\n",
       "10  2020-12-11                  820853\n",
       "11  2020-12-12                  831941\n",
       "12  2020-12-13                  843152\n",
       "13  2020-12-14                  854487\n",
       "14  2020-12-15                  865945\n",
       "15  2020-12-16                  877527\n",
       "16  2020-12-17                  889235\n",
       "17  2020-12-18                  901069\n",
       "18  2020-12-19                  913029\n",
       "19  2020-12-20                  925117\n",
       "20  2020-12-21                  937332\n",
       "21  2020-12-22                  949676\n",
       "22  2020-12-23                  962150\n",
       "23  2020-12-24                  974753\n",
       "24  2020-12-25                  987487\n",
       "25  2020-12-26                 1000352\n",
       "26  2020-12-27                 1013349\n",
       "27  2020-12-28                 1026478\n",
       "28  2020-12-29                 1039741\n",
       "29  2020-12-30                 1053138\n",
       "30  2020-12-31                 1066670"
      ]
     },
     "execution_count": 32,
     "metadata": {},
     "output_type": "execute_result"
    }
   ],
   "source": [
    "#pd.set_option('display.float_format', '{:.0f}'.format)\n",
    "predicted_df_rbf = pd.DataFrame(list(zip(Poly_Date, Poly_cases)), columns=['Date','Predicted Cases Number'])\n",
    "predicted_df_rbf"
   ]
  },
  {
   "cell_type": "code",
   "execution_count": 33,
   "metadata": {},
   "outputs": [
    {
     "data": {
      "image/png": "[encoded data removed]",
      "text/plain": [
       "<Figure size 432x288 with 1 Axes>"
      ]
     },
     "metadata": {
      "needs_background": "light"
     },
     "output_type": "display_data"
    }
   ],
   "source": [
    "plt.plot(Poly_Date, Poly_cases)\n",
    "plt.title('Poly Regression predictions', fontdict={'fontsize':20})\n",
    "plt.xlabel('Number of predicted Cases',fontdict={'fontsize':16})\n",
    "plt.ylabel('Date',fontdict={'fontsize':16})\n",
    "plt.xticks(rotation=45)\n",
    "plt.show()"
   ]
  },
  {
   "cell_type": "code",
   "execution_count": null,
   "metadata": {},
   "outputs": [],
   "source": []
  },
  {
   "cell_type": "code",
   "execution_count": null,
   "metadata": {},
   "outputs": [],
   "source": []
  },
  {
   "cell_type": "code",
   "execution_count": null,
   "metadata": {},
   "outputs": [],
   "source": []
  },
  {
   "cell_type": "markdown",
   "metadata": {},
   "source": [
    "## B. Jordan cases analysis and predection"
   ]
  },
  {
   "cell_type": "markdown",
   "metadata": {},
   "source": [
    "### 1. Data Manipulation"
   ]
  },
  {
   "cell_type": "markdown",
   "metadata": {},
   "source": [
    "#### Getting the total number of cases in Jordan every day"
   ]
  },
  {
   "cell_type": "code",
   "execution_count": 34,
   "metadata": {},
   "outputs": [],
   "source": [
    "Jordan = df[df['Country/Region']=='Jordan'].copy()\n",
    "Jordan.drop(['Province/State','Country/Region','Lat','Long'],axis='columns',inplace=True)\n",
    "Jordan = Jordan.transpose().reset_index()"
   ]
  },
  {
   "cell_type": "markdown",
   "metadata": {},
   "source": [
    "#### Renaming the columns of the dataframe to (Date, Total_Cases)"
   ]
  },
  {
   "cell_type": "code",
   "execution_count": 35,
   "metadata": {},
   "outputs": [],
   "source": [
    "Jordan.columns = ['Date', 'Total_Cases']"
   ]
  },
  {
   "cell_type": "code",
   "execution_count": 36,
   "metadata": {},
   "outputs": [
    {
     "data": {
      "text/html": [
       "<div>\n",
       "<style scoped>\n",
       "    .dataframe tbody tr th:only-of-type {\n",
       "        vertical-align: middle;\n",
       "    }\n",
       "\n",
       "    .dataframe tbody tr th {\n",
       "        vertical-align: top;\n",
       "    }\n",
       "\n",
       "    .dataframe thead th {\n",
       "        text-align: right;\n",
       "    }\n",
       "</style>\n",
       "<table border=\"1\" class=\"dataframe\">\n",
       "  <thead>\n",
       "    <tr style=\"text-align: right;\">\n",
       "      <th></th>\n",
       "      <th>Date</th>\n",
       "      <th>Total_Cases</th>\n",
       "    </tr>\n",
       "  </thead>\n",
       "  <tbody>\n",
       "    <tr>\n",
       "      <th>0</th>\n",
       "      <td>1/22/20</td>\n",
       "      <td>0</td>\n",
       "    </tr>\n",
       "    <tr>\n",
       "      <th>1</th>\n",
       "      <td>1/23/20</td>\n",
       "      <td>0</td>\n",
       "    </tr>\n",
       "    <tr>\n",
       "      <th>2</th>\n",
       "      <td>1/24/20</td>\n",
       "      <td>0</td>\n",
       "    </tr>\n",
       "    <tr>\n",
       "      <th>3</th>\n",
       "      <td>1/25/20</td>\n",
       "      <td>0</td>\n",
       "    </tr>\n",
       "    <tr>\n",
       "      <th>4</th>\n",
       "      <td>1/26/20</td>\n",
       "      <td>0</td>\n",
       "    </tr>\n",
       "    <tr>\n",
       "      <th>...</th>\n",
       "      <td>...</td>\n",
       "      <td>...</td>\n",
       "    </tr>\n",
       "    <tr>\n",
       "      <th>282</th>\n",
       "      <td>10/30/20</td>\n",
       "      <td>69306</td>\n",
       "    </tr>\n",
       "    <tr>\n",
       "      <th>283</th>\n",
       "      <td>10/31/20</td>\n",
       "      <td>72607</td>\n",
       "    </tr>\n",
       "    <tr>\n",
       "      <th>284</th>\n",
       "      <td>11/1/20</td>\n",
       "      <td>75866</td>\n",
       "    </tr>\n",
       "    <tr>\n",
       "      <th>285</th>\n",
       "      <td>11/2/20</td>\n",
       "      <td>81743</td>\n",
       "    </tr>\n",
       "    <tr>\n",
       "      <th>286</th>\n",
       "      <td>11/3/20</td>\n",
       "      <td>86576</td>\n",
       "    </tr>\n",
       "  </tbody>\n",
       "</table>\n",
       "<p>287 rows × 2 columns</p>\n",
       "</div>"
      ],
      "text/plain": [
       "         Date  Total_Cases\n",
       "0     1/22/20            0\n",
       "1     1/23/20            0\n",
       "2     1/24/20            0\n",
       "3     1/25/20            0\n",
       "4     1/26/20            0\n",
       "..        ...          ...\n",
       "282  10/30/20        69306\n",
       "283  10/31/20        72607\n",
       "284   11/1/20        75866\n",
       "285   11/2/20        81743\n",
       "286   11/3/20        86576\n",
       "\n",
       "[287 rows x 2 columns]"
      ]
     },
     "execution_count": 36,
     "metadata": {},
     "output_type": "execute_result"
    }
   ],
   "source": [
    "Jordan"
   ]
  },
  {
   "cell_type": "markdown",
   "metadata": {},
   "source": [
    "#### Converting the Date column to datetime type"
   ]
  },
  {
   "cell_type": "code",
   "execution_count": 37,
   "metadata": {},
   "outputs": [],
   "source": [
    "Jordan.Date = pd.to_datetime(Jordan.Date)"
   ]
  },
  {
   "cell_type": "markdown",
   "metadata": {},
   "source": [
    "#### Getting the daily cases"
   ]
  },
  {
   "cell_type": "code",
   "execution_count": 38,
   "metadata": {},
   "outputs": [
    {
     "data": {
      "text/html": [
       "<div>\n",
       "<style scoped>\n",
       "    .dataframe tbody tr th:only-of-type {\n",
       "        vertical-align: middle;\n",
       "    }\n",
       "\n",
       "    .dataframe tbody tr th {\n",
       "        vertical-align: top;\n",
       "    }\n",
       "\n",
       "    .dataframe thead th {\n",
       "        text-align: right;\n",
       "    }\n",
       "</style>\n",
       "<table border=\"1\" class=\"dataframe\">\n",
       "  <thead>\n",
       "    <tr style=\"text-align: right;\">\n",
       "      <th></th>\n",
       "      <th>Date</th>\n",
       "      <th>Total_Cases</th>\n",
       "      <th>Daily_Cases</th>\n",
       "    </tr>\n",
       "  </thead>\n",
       "  <tbody>\n",
       "    <tr>\n",
       "      <th>0</th>\n",
       "      <td>2020-01-22</td>\n",
       "      <td>0</td>\n",
       "      <td>0</td>\n",
       "    </tr>\n",
       "    <tr>\n",
       "      <th>1</th>\n",
       "      <td>2020-01-23</td>\n",
       "      <td>0</td>\n",
       "      <td>0</td>\n",
       "    </tr>\n",
       "    <tr>\n",
       "      <th>2</th>\n",
       "      <td>2020-01-24</td>\n",
       "      <td>0</td>\n",
       "      <td>0</td>\n",
       "    </tr>\n",
       "    <tr>\n",
       "      <th>3</th>\n",
       "      <td>2020-01-25</td>\n",
       "      <td>0</td>\n",
       "      <td>0</td>\n",
       "    </tr>\n",
       "    <tr>\n",
       "      <th>4</th>\n",
       "      <td>2020-01-26</td>\n",
       "      <td>0</td>\n",
       "      <td>0</td>\n",
       "    </tr>\n",
       "    <tr>\n",
       "      <th>...</th>\n",
       "      <td>...</td>\n",
       "      <td>...</td>\n",
       "      <td>...</td>\n",
       "    </tr>\n",
       "    <tr>\n",
       "      <th>282</th>\n",
       "      <td>2020-10-30</td>\n",
       "      <td>69306</td>\n",
       "      <td>3921</td>\n",
       "    </tr>\n",
       "    <tr>\n",
       "      <th>283</th>\n",
       "      <td>2020-10-31</td>\n",
       "      <td>72607</td>\n",
       "      <td>3301</td>\n",
       "    </tr>\n",
       "    <tr>\n",
       "      <th>284</th>\n",
       "      <td>2020-11-01</td>\n",
       "      <td>75866</td>\n",
       "      <td>3259</td>\n",
       "    </tr>\n",
       "    <tr>\n",
       "      <th>285</th>\n",
       "      <td>2020-11-02</td>\n",
       "      <td>81743</td>\n",
       "      <td>5877</td>\n",
       "    </tr>\n",
       "    <tr>\n",
       "      <th>286</th>\n",
       "      <td>2020-11-03</td>\n",
       "      <td>86576</td>\n",
       "      <td>4833</td>\n",
       "    </tr>\n",
       "  </tbody>\n",
       "</table>\n",
       "<p>287 rows × 3 columns</p>\n",
       "</div>"
      ],
      "text/plain": [
       "          Date  Total_Cases  Daily_Cases\n",
       "0   2020-01-22            0            0\n",
       "1   2020-01-23            0            0\n",
       "2   2020-01-24            0            0\n",
       "3   2020-01-25            0            0\n",
       "4   2020-01-26            0            0\n",
       "..         ...          ...          ...\n",
       "282 2020-10-30        69306         3921\n",
       "283 2020-10-31        72607         3301\n",
       "284 2020-11-01        75866         3259\n",
       "285 2020-11-02        81743         5877\n",
       "286 2020-11-03        86576         4833\n",
       "\n",
       "[287 rows x 3 columns]"
      ]
     },
     "execution_count": 38,
     "metadata": {},
     "output_type": "execute_result"
    }
   ],
   "source": [
    "Jordan['Daily_Cases'] = Jordan['Total_Cases'].diff()\n",
    "Jordan['Daily_Cases'].fillna(0, inplace=True)\n",
    "Jordan"
   ]
  },
  {
   "cell_type": "markdown",
   "metadata": {},
   "source": [
    "#### Getting the month as new column from Date column"
   ]
  },
  {
   "cell_type": "code",
   "execution_count": 39,
   "metadata": {},
   "outputs": [],
   "source": [
    "Jordan['Month'] = Jordan['Date'].astype('str').str[5:7]\n",
    "Jordan['Month'] = Jordan['Month'].astype('int32')\n",
    "#Jordan.head(60)"
   ]
  },
  {
   "cell_type": "markdown",
   "metadata": {},
   "source": [
    "#### Dropping the first 52 days which has no cases"
   ]
  },
  {
   "cell_type": "code",
   "execution_count": 40,
   "metadata": {},
   "outputs": [
    {
     "data": {
      "text/html": [
       "<div>\n",
       "<style scoped>\n",
       "    .dataframe tbody tr th:only-of-type {\n",
       "        vertical-align: middle;\n",
       "    }\n",
       "\n",
       "    .dataframe tbody tr th {\n",
       "        vertical-align: top;\n",
       "    }\n",
       "\n",
       "    .dataframe thead th {\n",
       "        text-align: right;\n",
       "    }\n",
       "</style>\n",
       "<table border=\"1\" class=\"dataframe\">\n",
       "  <thead>\n",
       "    <tr style=\"text-align: right;\">\n",
       "      <th></th>\n",
       "      <th>Date</th>\n",
       "      <th>Total_Cases</th>\n",
       "      <th>Daily_Cases</th>\n",
       "      <th>Month</th>\n",
       "    </tr>\n",
       "  </thead>\n",
       "  <tbody>\n",
       "    <tr>\n",
       "      <th>0</th>\n",
       "      <td>2020-03-15</td>\n",
       "      <td>8</td>\n",
       "      <td>7</td>\n",
       "      <td>3</td>\n",
       "    </tr>\n",
       "    <tr>\n",
       "      <th>1</th>\n",
       "      <td>2020-03-16</td>\n",
       "      <td>17</td>\n",
       "      <td>9</td>\n",
       "      <td>3</td>\n",
       "    </tr>\n",
       "    <tr>\n",
       "      <th>2</th>\n",
       "      <td>2020-03-17</td>\n",
       "      <td>34</td>\n",
       "      <td>17</td>\n",
       "      <td>3</td>\n",
       "    </tr>\n",
       "    <tr>\n",
       "      <th>3</th>\n",
       "      <td>2020-03-18</td>\n",
       "      <td>52</td>\n",
       "      <td>18</td>\n",
       "      <td>3</td>\n",
       "    </tr>\n",
       "    <tr>\n",
       "      <th>4</th>\n",
       "      <td>2020-03-19</td>\n",
       "      <td>69</td>\n",
       "      <td>17</td>\n",
       "      <td>3</td>\n",
       "    </tr>\n",
       "    <tr>\n",
       "      <th>...</th>\n",
       "      <td>...</td>\n",
       "      <td>...</td>\n",
       "      <td>...</td>\n",
       "      <td>...</td>\n",
       "    </tr>\n",
       "    <tr>\n",
       "      <th>229</th>\n",
       "      <td>2020-10-30</td>\n",
       "      <td>69306</td>\n",
       "      <td>3921</td>\n",
       "      <td>10</td>\n",
       "    </tr>\n",
       "    <tr>\n",
       "      <th>230</th>\n",
       "      <td>2020-10-31</td>\n",
       "      <td>72607</td>\n",
       "      <td>3301</td>\n",
       "      <td>10</td>\n",
       "    </tr>\n",
       "    <tr>\n",
       "      <th>231</th>\n",
       "      <td>2020-11-01</td>\n",
       "      <td>75866</td>\n",
       "      <td>3259</td>\n",
       "      <td>11</td>\n",
       "    </tr>\n",
       "    <tr>\n",
       "      <th>232</th>\n",
       "      <td>2020-11-02</td>\n",
       "      <td>81743</td>\n",
       "      <td>5877</td>\n",
       "      <td>11</td>\n",
       "    </tr>\n",
       "    <tr>\n",
       "      <th>233</th>\n",
       "      <td>2020-11-03</td>\n",
       "      <td>86576</td>\n",
       "      <td>4833</td>\n",
       "      <td>11</td>\n",
       "    </tr>\n",
       "  </tbody>\n",
       "</table>\n",
       "<p>234 rows × 4 columns</p>\n",
       "</div>"
      ],
      "text/plain": [
       "          Date  Total_Cases  Daily_Cases  Month\n",
       "0   2020-03-15            8            7      3\n",
       "1   2020-03-16           17            9      3\n",
       "2   2020-03-17           34           17      3\n",
       "3   2020-03-18           52           18      3\n",
       "4   2020-03-19           69           17      3\n",
       "..         ...          ...          ...    ...\n",
       "229 2020-10-30        69306         3921     10\n",
       "230 2020-10-31        72607         3301     10\n",
       "231 2020-11-01        75866         3259     11\n",
       "232 2020-11-02        81743         5877     11\n",
       "233 2020-11-03        86576         4833     11\n",
       "\n",
       "[234 rows x 4 columns]"
      ]
     },
     "execution_count": 40,
     "metadata": {},
     "output_type": "execute_result"
    }
   ],
   "source": [
    "To_drop = [i for i in range(53)]\n",
    "Jordan = Jordan.drop(index=To_drop).reset_index().drop('index',axis='columns')\n",
    "Jordan"
   ]
  },
  {
   "cell_type": "markdown",
   "metadata": {},
   "source": [
    "### 2. Plotting"
   ]
  },
  {
   "cell_type": "code",
   "execution_count": 41,
   "metadata": {},
   "outputs": [
    {
     "data": {
      "image/png": "[encoded data removed]",
      "text/plain": [
       "<Figure size 720x432 with 1 Axes>"
      ]
     },
     "metadata": {
      "needs_background": "light"
     },
     "output_type": "display_data"
    }
   ],
   "source": [
    "plt.figure(figsize=(10,6))\n",
    "plt.plot(Jordan.Date, Jordan.Total_Cases)\n",
    "plt.xticks(rotation=45)\n",
    "plt.xlabel('Date',fontdict={'fontsize':16})\n",
    "plt.ylabel('Total Cases',fontdict={'fontsize':16})\n",
    "plt.title('Jordan Total Cases over Time',fontdict={'fontsize':20})\n",
    "plt.show()"
   ]
  },
  {
   "cell_type": "code",
   "execution_count": 42,
   "metadata": {},
   "outputs": [
    {
     "data": {
      "image/png": "[encoded data removed]",
      "text/plain": [
       "<Figure size 720x432 with 1 Axes>"
      ]
     },
     "metadata": {
      "needs_background": "light"
     },
     "output_type": "display_data"
    }
   ],
   "source": [
    "plt.figure(figsize=(10,6))\n",
    "plt.plot(Jordan.Date, Jordan.Daily_Cases)\n",
    "plt.xticks(rotation=45)\n",
    "plt.xlabel('Date',fontdict={'fontsize':16})\n",
    "plt.ylabel('Total Cases',fontdict={'fontsize':16})\n",
    "plt.title('Jordan Daily Cases over Time',fontdict={'fontsize':20})\n",
    "plt.show()"
   ]
  },
  {
   "cell_type": "markdown",
   "metadata": {},
   "source": [
    "#### Replacing the negative value with zero"
   ]
  },
  {
   "cell_type": "code",
   "execution_count": 43,
   "metadata": {
    "scrolled": true
   },
   "outputs": [
    {
     "data": {
      "text/plain": [
       "128"
      ]
     },
     "execution_count": 43,
     "metadata": {},
     "output_type": "execute_result"
    }
   ],
   "source": [
    "Jordan[Jordan['Daily_Cases']<0]['Daily_Cases'].index[0]"
   ]
  },
  {
   "cell_type": "code",
   "execution_count": 44,
   "metadata": {},
   "outputs": [],
   "source": [
    "Jordan.iloc[Jordan[Jordan['Daily_Cases']<0]['Daily_Cases'].index[0],2] = 0"
   ]
  },
  {
   "cell_type": "code",
   "execution_count": 45,
   "metadata": {},
   "outputs": [
    {
     "data": {
      "image/png": "[encoded data removed]",
      "text/plain": [
       "<Figure size 720x432 with 1 Axes>"
      ]
     },
     "metadata": {
      "needs_background": "light"
     },
     "output_type": "display_data"
    }
   ],
   "source": [
    "Jordan.groupby(['Month']).sum()['Daily_Cases'].plot(title='Number of cases per month in Jordan'\n",
    "                                                   ,figsize=(10,6),kind='bar', ylabel='Number of Cases')\n",
    "plt.show()"
   ]
  },
  {
   "cell_type": "markdown",
   "metadata": {},
   "source": [
    "### 3. Data Preprocessing"
   ]
  },
  {
   "cell_type": "code",
   "execution_count": 46,
   "metadata": {},
   "outputs": [],
   "source": [
    "X = Jordan['Date'].map(datetime.datetime.toordinal)\n",
    "X = X.values.reshape(-1,1)"
   ]
  },
  {
   "cell_type": "code",
   "execution_count": 47,
   "metadata": {},
   "outputs": [],
   "source": [
    "y = Jordan['Daily_Cases'].values.reshape(-1, 1)"
   ]
  },
  {
   "cell_type": "code",
   "execution_count": 48,
   "metadata": {},
   "outputs": [],
   "source": [
    "Scaler_X = StandardScaler()\n",
    "Scaler_y = StandardScaler()\n",
    "\n",
    "Scaled_X = Scaler_X.fit_transform(X)\n",
    "Scaled_y = Scaler_y.fit_transform(y)"
   ]
  },
  {
   "cell_type": "code",
   "execution_count": 49,
   "metadata": {},
   "outputs": [],
   "source": [
    "First_date_to_predict = '04/11/20'\n",
    "Last_date_to_predict = '31/12/20'\n",
    "\n",
    "First_date_to_predict = datetime.datetime.strptime(First_date_to_predict, '%d/%m/%y')\n",
    "Last_date_to_predict = datetime.datetime.strptime(Last_date_to_predict, '%d/%m/%y')\n",
    "\n",
    "Dates_to_predict = [i for i in range(First_date_to_predict.toordinal(), Last_date_to_predict.toordinal()+1)]\n",
    "#Dates_to_predict"
   ]
  },
  {
   "cell_type": "code",
   "execution_count": 50,
   "metadata": {},
   "outputs": [
    {
     "data": {
      "text/plain": [
       "datetime.date(2020, 12, 31)"
      ]
     },
     "execution_count": 50,
     "metadata": {},
     "output_type": "execute_result"
    }
   ],
   "source": [
    "datetime.date.fromordinal(Dates_to_predict[-1])"
   ]
  },
  {
   "cell_type": "code",
   "execution_count": 51,
   "metadata": {
    "scrolled": false
   },
   "outputs": [
    {
     "data": {
      "image/png": "[encoded data removed]",
      "text/plain": [
       "<Figure size 864x288 with 2 Axes>"
      ]
     },
     "metadata": {
      "needs_background": "light"
     },
     "output_type": "display_data"
    },
    {
     "data": {
      "image/png": "[encoded data removed]",
      "text/plain": [
       "<Figure size 864x288 with 2 Axes>"
      ]
     },
     "metadata": {
      "needs_background": "light"
     },
     "output_type": "display_data"
    }
   ],
   "source": [
    "fig, axes = plt.subplots(1, 2, figsize=(12, 4), sharey=True)\n",
    "fig.suptitle('Regression plots for degrees 1, 2', fontsize=20)\n",
    "sns.regplot(ax=axes[0],x=Scaled_X,y=Scaled_y, order=1,line_kws={\"color\": \"red\"})\n",
    "sns.regplot(ax=axes[1],x=Scaled_X,y=Scaled_y,order=2,line_kws={\"color\": \"green\"})\n",
    "fig, axes = plt.subplots(1, 2, figsize=(12, 4), sharey=True)\n",
    "fig.suptitle('Regression plots for degrees 3, 4', fontsize=20)\n",
    "sns.regplot(ax=axes[0],x=Scaled_X,y=Scaled_y,order=3,line_kws={\"color\": \"yellow\"})\n",
    "sns.regplot(ax=axes[1],x=Scaled_X,y=Scaled_y,order=4,line_kws={\"color\": \"black\"})\n",
    "plt.show()"
   ]
  },
  {
   "cell_type": "markdown",
   "metadata": {},
   "source": [
    "### 4. Linear Regression"
   ]
  },
  {
   "cell_type": "code",
   "execution_count": 52,
   "metadata": {},
   "outputs": [
    {
     "data": {
      "text/plain": [
       "LinearRegression(copy_X=True, fit_intercept=True, n_jobs=None, normalize=False)"
      ]
     },
     "execution_count": 52,
     "metadata": {},
     "output_type": "execute_result"
    }
   ],
   "source": [
    "lr = LinearRegression()\n",
    "lr.fit(Scaled_X, Scaled_y.ravel())"
   ]
  },
  {
   "cell_type": "code",
   "execution_count": 53,
   "metadata": {},
   "outputs": [
    {
     "data": {
      "image/png": "[encoded data removed]",
      "text/plain": [
       "<Figure size 576x360 with 1 Axes>"
      ]
     },
     "metadata": {
      "needs_background": "light"
     },
     "output_type": "display_data"
    }
   ],
   "source": [
    "plt.figure(figsize=(8,5))\n",
    "plt.plot(Scaled_X,Scaled_y,color ='blue', label='Train Data')\n",
    "plt.plot(Scaled_X, lr.predict(Scaled_X), color = 'red', label='Fit line')\n",
    "plt.plot(Scaler_X.transform(np.array(Dates_to_predict).reshape(-1,1)), lr.predict(Scaler_X.transform(np.array(Dates_to_predict).reshape(-1,1))), color = 'green', label='predicted')\n",
    "plt.legend()\n",
    "plt.show()"
   ]
  },
  {
   "cell_type": "code",
   "execution_count": 54,
   "metadata": {
    "scrolled": true
   },
   "outputs": [
    {
     "name": "stdout",
     "output_type": "stream",
     "text": [
      "Mean Squared Error:  0.6366625734004077\n",
      "Mean Absolute Error:  0.5472938335130534\n"
     ]
    }
   ],
   "source": [
    "print('Mean Squared Error: ',mean_squared_error(Scaled_y, lr.predict(Scaled_X)))\n",
    "print('Mean Absolute Error: ',mean_absolute_error(Scaled_y, lr.predict(Scaled_X)))"
   ]
  },
  {
   "cell_type": "markdown",
   "metadata": {},
   "source": [
    "### 5. Support Vector Regressor using RBF kernel"
   ]
  },
  {
   "cell_type": "code",
   "execution_count": 55,
   "metadata": {},
   "outputs": [
    {
     "data": {
      "text/plain": [
       "SVR(C=20, cache_size=200, coef0=0.0, degree=3, epsilon=0.1, gamma='scale',\n",
       "    kernel='rbf', max_iter=-1, shrinking=True, tol=0.001, verbose=False)"
      ]
     },
     "execution_count": 55,
     "metadata": {},
     "output_type": "execute_result"
    }
   ],
   "source": [
    "regressor_rbf = SVR(C=20, kernel='rbf')\n",
    "regressor_rbf.fit(Scaled_X, Scaled_y.ravel())"
   ]
  },
  {
   "cell_type": "code",
   "execution_count": 56,
   "metadata": {},
   "outputs": [
    {
     "data": {
      "image/png": "[encoded data removed]",
      "text/plain": [
       "<Figure size 576x360 with 1 Axes>"
      ]
     },
     "metadata": {
      "needs_background": "light"
     },
     "output_type": "display_data"
    }
   ],
   "source": [
    "plt.figure(figsize=(8,5))\n",
    "plt.plot(Scaled_X,Scaled_y,color ='red', label='Train Data')\n",
    "plt.plot(Scaled_X, regressor_rbf.predict(Scaled_X), color = 'blue', label='Fit line')\n",
    "plt.plot(Scaler_X.transform(np.array(Dates_to_predict).reshape(-1,1)), regressor_rbf.predict(Scaler_X.transform(np.array(Dates_to_predict).reshape(-1,1))), color = 'green', label='predicted')\n",
    "plt.legend()\n",
    "plt.show()"
   ]
  },
  {
   "cell_type": "code",
   "execution_count": 57,
   "metadata": {
    "scrolled": true
   },
   "outputs": [
    {
     "name": "stdout",
     "output_type": "stream",
     "text": [
      "Mean Squared Error:  0.08419649519269029\n",
      "Mean Absolute Error:  0.1368967384283517\n"
     ]
    }
   ],
   "source": [
    "print('Mean Squared Error: ',mean_squared_error(Scaled_y, regressor_rbf.predict(Scaled_X)))\n",
    "print('Mean Absolute Error: ',mean_absolute_error(Scaled_y, regressor_rbf.predict(Scaled_X)))"
   ]
  },
  {
   "cell_type": "markdown",
   "metadata": {},
   "source": [
    "### 6. Showing predictions for December"
   ]
  },
  {
   "cell_type": "code",
   "execution_count": 58,
   "metadata": {
    "scrolled": false
   },
   "outputs": [],
   "source": [
    "Linear_Date = [] ; Linear_cases = []\n",
    "Rbf_Date = [] ; Rbf_cases = []\n",
    "\n",
    "for j,i in enumerate(Dates_to_predict[27:]):\n",
    "    x = lr.predict(np.array(Scaler_X.transform([[i]])))\n",
    "    Linear_Date.append(datetime.date.fromordinal(i))\n",
    "    Linear_cases.append(Scaler_y.inverse_transform(x)[0])\n",
    "    \n",
    "    y = regressor_rbf.predict(np.array(Scaler_X.transform([[i]])))\n",
    "    Rbf_Date.append(datetime.date.fromordinal(i))\n",
    "    Rbf_cases.append(Scaler_y.inverse_transform(y)[0])"
   ]
  },
  {
   "cell_type": "markdown",
   "metadata": {},
   "source": [
    "##### Linear Regression predictions"
   ]
  },
  {
   "cell_type": "code",
   "execution_count": 59,
   "metadata": {},
   "outputs": [
    {
     "data": {
      "text/html": [
       "<div>\n",
       "<style scoped>\n",
       "    .dataframe tbody tr th:only-of-type {\n",
       "        vertical-align: middle;\n",
       "    }\n",
       "\n",
       "    .dataframe tbody tr th {\n",
       "        vertical-align: top;\n",
       "    }\n",
       "\n",
       "    .dataframe thead th {\n",
       "        text-align: right;\n",
       "    }\n",
       "</style>\n",
       "<table border=\"1\" class=\"dataframe\">\n",
       "  <thead>\n",
       "    <tr style=\"text-align: right;\">\n",
       "      <th></th>\n",
       "      <th>Date</th>\n",
       "      <th>Predicted Cases Number</th>\n",
       "    </tr>\n",
       "  </thead>\n",
       "  <tbody>\n",
       "    <tr>\n",
       "      <th>0</th>\n",
       "      <td>2020-12-01</td>\n",
       "      <td>1522</td>\n",
       "    </tr>\n",
       "    <tr>\n",
       "      <th>1</th>\n",
       "      <td>2020-12-02</td>\n",
       "      <td>1530</td>\n",
       "    </tr>\n",
       "    <tr>\n",
       "      <th>2</th>\n",
       "      <td>2020-12-03</td>\n",
       "      <td>1538</td>\n",
       "    </tr>\n",
       "    <tr>\n",
       "      <th>3</th>\n",
       "      <td>2020-12-04</td>\n",
       "      <td>1546</td>\n",
       "    </tr>\n",
       "    <tr>\n",
       "      <th>4</th>\n",
       "      <td>2020-12-05</td>\n",
       "      <td>1554</td>\n",
       "    </tr>\n",
       "    <tr>\n",
       "      <th>5</th>\n",
       "      <td>2020-12-06</td>\n",
       "      <td>1562</td>\n",
       "    </tr>\n",
       "    <tr>\n",
       "      <th>6</th>\n",
       "      <td>2020-12-07</td>\n",
       "      <td>1570</td>\n",
       "    </tr>\n",
       "    <tr>\n",
       "      <th>7</th>\n",
       "      <td>2020-12-08</td>\n",
       "      <td>1578</td>\n",
       "    </tr>\n",
       "    <tr>\n",
       "      <th>8</th>\n",
       "      <td>2020-12-09</td>\n",
       "      <td>1586</td>\n",
       "    </tr>\n",
       "    <tr>\n",
       "      <th>9</th>\n",
       "      <td>2020-12-10</td>\n",
       "      <td>1593</td>\n",
       "    </tr>\n",
       "    <tr>\n",
       "      <th>10</th>\n",
       "      <td>2020-12-11</td>\n",
       "      <td>1601</td>\n",
       "    </tr>\n",
       "    <tr>\n",
       "      <th>11</th>\n",
       "      <td>2020-12-12</td>\n",
       "      <td>1609</td>\n",
       "    </tr>\n",
       "    <tr>\n",
       "      <th>12</th>\n",
       "      <td>2020-12-13</td>\n",
       "      <td>1617</td>\n",
       "    </tr>\n",
       "    <tr>\n",
       "      <th>13</th>\n",
       "      <td>2020-12-14</td>\n",
       "      <td>1625</td>\n",
       "    </tr>\n",
       "    <tr>\n",
       "      <th>14</th>\n",
       "      <td>2020-12-15</td>\n",
       "      <td>1633</td>\n",
       "    </tr>\n",
       "    <tr>\n",
       "      <th>15</th>\n",
       "      <td>2020-12-16</td>\n",
       "      <td>1641</td>\n",
       "    </tr>\n",
       "    <tr>\n",
       "      <th>16</th>\n",
       "      <td>2020-12-17</td>\n",
       "      <td>1649</td>\n",
       "    </tr>\n",
       "    <tr>\n",
       "      <th>17</th>\n",
       "      <td>2020-12-18</td>\n",
       "      <td>1657</td>\n",
       "    </tr>\n",
       "    <tr>\n",
       "      <th>18</th>\n",
       "      <td>2020-12-19</td>\n",
       "      <td>1665</td>\n",
       "    </tr>\n",
       "    <tr>\n",
       "      <th>19</th>\n",
       "      <td>2020-12-20</td>\n",
       "      <td>1673</td>\n",
       "    </tr>\n",
       "    <tr>\n",
       "      <th>20</th>\n",
       "      <td>2020-12-21</td>\n",
       "      <td>1681</td>\n",
       "    </tr>\n",
       "    <tr>\n",
       "      <th>21</th>\n",
       "      <td>2020-12-22</td>\n",
       "      <td>1689</td>\n",
       "    </tr>\n",
       "    <tr>\n",
       "      <th>22</th>\n",
       "      <td>2020-12-23</td>\n",
       "      <td>1697</td>\n",
       "    </tr>\n",
       "    <tr>\n",
       "      <th>23</th>\n",
       "      <td>2020-12-24</td>\n",
       "      <td>1705</td>\n",
       "    </tr>\n",
       "    <tr>\n",
       "      <th>24</th>\n",
       "      <td>2020-12-25</td>\n",
       "      <td>1713</td>\n",
       "    </tr>\n",
       "    <tr>\n",
       "      <th>25</th>\n",
       "      <td>2020-12-26</td>\n",
       "      <td>1721</td>\n",
       "    </tr>\n",
       "    <tr>\n",
       "      <th>26</th>\n",
       "      <td>2020-12-27</td>\n",
       "      <td>1729</td>\n",
       "    </tr>\n",
       "    <tr>\n",
       "      <th>27</th>\n",
       "      <td>2020-12-28</td>\n",
       "      <td>1737</td>\n",
       "    </tr>\n",
       "    <tr>\n",
       "      <th>28</th>\n",
       "      <td>2020-12-29</td>\n",
       "      <td>1745</td>\n",
       "    </tr>\n",
       "    <tr>\n",
       "      <th>29</th>\n",
       "      <td>2020-12-30</td>\n",
       "      <td>1753</td>\n",
       "    </tr>\n",
       "    <tr>\n",
       "      <th>30</th>\n",
       "      <td>2020-12-31</td>\n",
       "      <td>1761</td>\n",
       "    </tr>\n",
       "  </tbody>\n",
       "</table>\n",
       "</div>"
      ],
      "text/plain": [
       "          Date  Predicted Cases Number\n",
       "0   2020-12-01                    1522\n",
       "1   2020-12-02                    1530\n",
       "2   2020-12-03                    1538\n",
       "3   2020-12-04                    1546\n",
       "4   2020-12-05                    1554\n",
       "5   2020-12-06                    1562\n",
       "6   2020-12-07                    1570\n",
       "7   2020-12-08                    1578\n",
       "8   2020-12-09                    1586\n",
       "9   2020-12-10                    1593\n",
       "10  2020-12-11                    1601\n",
       "11  2020-12-12                    1609\n",
       "12  2020-12-13                    1617\n",
       "13  2020-12-14                    1625\n",
       "14  2020-12-15                    1633\n",
       "15  2020-12-16                    1641\n",
       "16  2020-12-17                    1649\n",
       "17  2020-12-18                    1657\n",
       "18  2020-12-19                    1665\n",
       "19  2020-12-20                    1673\n",
       "20  2020-12-21                    1681\n",
       "21  2020-12-22                    1689\n",
       "22  2020-12-23                    1697\n",
       "23  2020-12-24                    1705\n",
       "24  2020-12-25                    1713\n",
       "25  2020-12-26                    1721\n",
       "26  2020-12-27                    1729\n",
       "27  2020-12-28                    1737\n",
       "28  2020-12-29                    1745\n",
       "29  2020-12-30                    1753\n",
       "30  2020-12-31                    1761"
      ]
     },
     "execution_count": 59,
     "metadata": {},
     "output_type": "execute_result"
    }
   ],
   "source": [
    "pd.set_option('display.float_format', '{:.0f}'.format)\n",
    "predicted_df_lr = pd.DataFrame(list(zip(Linear_Date, Linear_cases)), columns=['Date','Predicted Cases Number'])\n",
    "predicted_df_lr"
   ]
  },
  {
   "cell_type": "code",
   "execution_count": 60,
   "metadata": {},
   "outputs": [
    {
     "data": {
      "image/png": "[encoded data removed]",
      "text/plain": [
       "<Figure size 432x288 with 1 Axes>"
      ]
     },
     "metadata": {
      "needs_background": "light"
     },
     "output_type": "display_data"
    }
   ],
   "source": [
    "plt.plot(Linear_Date, Linear_cases)\n",
    "plt.title('Linear Regression predictions', fontdict={'fontsize':20})\n",
    "plt.xlabel('Number of predicted Cases',fontdict={'fontsize':16})\n",
    "plt.ylabel('Date',fontdict={'fontsize':16})\n",
    "plt.xticks(rotation=45)\n",
    "plt.show()"
   ]
  },
  {
   "cell_type": "markdown",
   "metadata": {},
   "source": [
    "##### RBF Regression predictions"
   ]
  },
  {
   "cell_type": "code",
   "execution_count": 61,
   "metadata": {},
   "outputs": [
    {
     "data": {
      "text/html": [
       "<div>\n",
       "<style scoped>\n",
       "    .dataframe tbody tr th:only-of-type {\n",
       "        vertical-align: middle;\n",
       "    }\n",
       "\n",
       "    .dataframe tbody tr th {\n",
       "        vertical-align: top;\n",
       "    }\n",
       "\n",
       "    .dataframe thead th {\n",
       "        text-align: right;\n",
       "    }\n",
       "</style>\n",
       "<table border=\"1\" class=\"dataframe\">\n",
       "  <thead>\n",
       "    <tr style=\"text-align: right;\">\n",
       "      <th></th>\n",
       "      <th>Date</th>\n",
       "      <th>Predicted Cases Number</th>\n",
       "    </tr>\n",
       "  </thead>\n",
       "  <tbody>\n",
       "    <tr>\n",
       "      <th>0</th>\n",
       "      <td>2020-12-01</td>\n",
       "      <td>5960</td>\n",
       "    </tr>\n",
       "    <tr>\n",
       "      <th>1</th>\n",
       "      <td>2020-12-02</td>\n",
       "      <td>6002</td>\n",
       "    </tr>\n",
       "    <tr>\n",
       "      <th>2</th>\n",
       "      <td>2020-12-03</td>\n",
       "      <td>6040</td>\n",
       "    </tr>\n",
       "    <tr>\n",
       "      <th>3</th>\n",
       "      <td>2020-12-04</td>\n",
       "      <td>6076</td>\n",
       "    </tr>\n",
       "    <tr>\n",
       "      <th>4</th>\n",
       "      <td>2020-12-05</td>\n",
       "      <td>6107</td>\n",
       "    </tr>\n",
       "    <tr>\n",
       "      <th>5</th>\n",
       "      <td>2020-12-06</td>\n",
       "      <td>6136</td>\n",
       "    </tr>\n",
       "    <tr>\n",
       "      <th>6</th>\n",
       "      <td>2020-12-07</td>\n",
       "      <td>6160</td>\n",
       "    </tr>\n",
       "    <tr>\n",
       "      <th>7</th>\n",
       "      <td>2020-12-08</td>\n",
       "      <td>6181</td>\n",
       "    </tr>\n",
       "    <tr>\n",
       "      <th>8</th>\n",
       "      <td>2020-12-09</td>\n",
       "      <td>6199</td>\n",
       "    </tr>\n",
       "    <tr>\n",
       "      <th>9</th>\n",
       "      <td>2020-12-10</td>\n",
       "      <td>6213</td>\n",
       "    </tr>\n",
       "    <tr>\n",
       "      <th>10</th>\n",
       "      <td>2020-12-11</td>\n",
       "      <td>6224</td>\n",
       "    </tr>\n",
       "    <tr>\n",
       "      <th>11</th>\n",
       "      <td>2020-12-12</td>\n",
       "      <td>6231</td>\n",
       "    </tr>\n",
       "    <tr>\n",
       "      <th>12</th>\n",
       "      <td>2020-12-13</td>\n",
       "      <td>6235</td>\n",
       "    </tr>\n",
       "    <tr>\n",
       "      <th>13</th>\n",
       "      <td>2020-12-14</td>\n",
       "      <td>6236</td>\n",
       "    </tr>\n",
       "    <tr>\n",
       "      <th>14</th>\n",
       "      <td>2020-12-15</td>\n",
       "      <td>6233</td>\n",
       "    </tr>\n",
       "    <tr>\n",
       "      <th>15</th>\n",
       "      <td>2020-12-16</td>\n",
       "      <td>6227</td>\n",
       "    </tr>\n",
       "    <tr>\n",
       "      <th>16</th>\n",
       "      <td>2020-12-17</td>\n",
       "      <td>6217</td>\n",
       "    </tr>\n",
       "    <tr>\n",
       "      <th>17</th>\n",
       "      <td>2020-12-18</td>\n",
       "      <td>6205</td>\n",
       "    </tr>\n",
       "    <tr>\n",
       "      <th>18</th>\n",
       "      <td>2020-12-19</td>\n",
       "      <td>6189</td>\n",
       "    </tr>\n",
       "    <tr>\n",
       "      <th>19</th>\n",
       "      <td>2020-12-20</td>\n",
       "      <td>6170</td>\n",
       "    </tr>\n",
       "    <tr>\n",
       "      <th>20</th>\n",
       "      <td>2020-12-21</td>\n",
       "      <td>6148</td>\n",
       "    </tr>\n",
       "    <tr>\n",
       "      <th>21</th>\n",
       "      <td>2020-12-22</td>\n",
       "      <td>6123</td>\n",
       "    </tr>\n",
       "    <tr>\n",
       "      <th>22</th>\n",
       "      <td>2020-12-23</td>\n",
       "      <td>6095</td>\n",
       "    </tr>\n",
       "    <tr>\n",
       "      <th>23</th>\n",
       "      <td>2020-12-24</td>\n",
       "      <td>6065</td>\n",
       "    </tr>\n",
       "    <tr>\n",
       "      <th>24</th>\n",
       "      <td>2020-12-25</td>\n",
       "      <td>6032</td>\n",
       "    </tr>\n",
       "    <tr>\n",
       "      <th>25</th>\n",
       "      <td>2020-12-26</td>\n",
       "      <td>5996</td>\n",
       "    </tr>\n",
       "    <tr>\n",
       "      <th>26</th>\n",
       "      <td>2020-12-27</td>\n",
       "      <td>5958</td>\n",
       "    </tr>\n",
       "    <tr>\n",
       "      <th>27</th>\n",
       "      <td>2020-12-28</td>\n",
       "      <td>5917</td>\n",
       "    </tr>\n",
       "    <tr>\n",
       "      <th>28</th>\n",
       "      <td>2020-12-29</td>\n",
       "      <td>5874</td>\n",
       "    </tr>\n",
       "    <tr>\n",
       "      <th>29</th>\n",
       "      <td>2020-12-30</td>\n",
       "      <td>5828</td>\n",
       "    </tr>\n",
       "    <tr>\n",
       "      <th>30</th>\n",
       "      <td>2020-12-31</td>\n",
       "      <td>5781</td>\n",
       "    </tr>\n",
       "  </tbody>\n",
       "</table>\n",
       "</div>"
      ],
      "text/plain": [
       "          Date  Predicted Cases Number\n",
       "0   2020-12-01                    5960\n",
       "1   2020-12-02                    6002\n",
       "2   2020-12-03                    6040\n",
       "3   2020-12-04                    6076\n",
       "4   2020-12-05                    6107\n",
       "5   2020-12-06                    6136\n",
       "6   2020-12-07                    6160\n",
       "7   2020-12-08                    6181\n",
       "8   2020-12-09                    6199\n",
       "9   2020-12-10                    6213\n",
       "10  2020-12-11                    6224\n",
       "11  2020-12-12                    6231\n",
       "12  2020-12-13                    6235\n",
       "13  2020-12-14                    6236\n",
       "14  2020-12-15                    6233\n",
       "15  2020-12-16                    6227\n",
       "16  2020-12-17                    6217\n",
       "17  2020-12-18                    6205\n",
       "18  2020-12-19                    6189\n",
       "19  2020-12-20                    6170\n",
       "20  2020-12-21                    6148\n",
       "21  2020-12-22                    6123\n",
       "22  2020-12-23                    6095\n",
       "23  2020-12-24                    6065\n",
       "24  2020-12-25                    6032\n",
       "25  2020-12-26                    5996\n",
       "26  2020-12-27                    5958\n",
       "27  2020-12-28                    5917\n",
       "28  2020-12-29                    5874\n",
       "29  2020-12-30                    5828\n",
       "30  2020-12-31                    5781"
      ]
     },
     "execution_count": 61,
     "metadata": {},
     "output_type": "execute_result"
    }
   ],
   "source": [
    "#pd.set_option('display.float_format', '{:.0f}'.format)\n",
    "predicted_df_rbf = pd.DataFrame(list(zip(Rbf_Date, Rbf_cases)), columns=['Date','Predicted Cases Number'])\n",
    "predicted_df_rbf"
   ]
  },
  {
   "cell_type": "code",
   "execution_count": 62,
   "metadata": {
    "scrolled": true
   },
   "outputs": [
    {
     "data": {
      "image/png": "[encoded data removed]",
      "text/plain": [
       "<Figure size 432x288 with 1 Axes>"
      ]
     },
     "metadata": {
      "needs_background": "light"
     },
     "output_type": "display_data"
    }
   ],
   "source": [
    "plt.plot(Rbf_Date, Rbf_cases)\n",
    "plt.title('RBF Regression predictions', fontdict={'fontsize':20})\n",
    "plt.xlabel('Number of predicted Cases',fontdict={'fontsize':16})\n",
    "plt.ylabel('Date',fontdict={'fontsize':16})\n",
    "plt.xticks(rotation=45)\n",
    "plt.show()"
   ]
  },
  {
   "cell_type": "code",
   "execution_count": null,
   "metadata": {},
   "outputs": [],
   "source": []
  },
  {
   "cell_type": "markdown",
   "metadata": {},
   "source": [
    "## Conclusion"
   ]
  },
  {
   "cell_type": "markdown",
   "metadata": {},
   "source": [
    "As we saw in the results of metrics (MSE and MAE), the best model for world cases was (SVR with RBF Kernel). However, the predictions closer to reality were more evident in the (SVR with Poly Kernel) due to the continuous increase in cases exponentially in the last days. While for the Linear Regression model, it performed well based on metrics.\n",
    "\n",
    "For Jordan, data increases exponentially in the last period, but before that, the curve is rather flat and thus this makes it difficult to find a better fit curve. The Linear Regression model gave very poor results based on MSE and MAE metrics, and was unreliable in predicting. While for (SVR with RBF Kernel) it gave much better results and somewhat simulates reality of cases increasing.\n"
   ]
  }
 ],
 "metadata": {
  "kernelspec": {
   "display_name": "Python 3",
   "language": "python",
   "name": "python3"
  },
  "language_info": {
   "codemirror_mode": {
    "name": "ipython",
    "version": 3
   },
   "file_extension": ".py",
   "mimetype": "text/x-python",
   "name": "python",
   "nbconvert_exporter": "python",
   "pygments_lexer": "ipython3",
   "version": "3.7.4"
  }
 },
 "nbformat": 4,
 "nbformat_minor": 4
}
